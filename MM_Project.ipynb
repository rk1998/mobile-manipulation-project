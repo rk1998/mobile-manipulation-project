{
  "nbformat": 4,
  "nbformat_minor": 0,
  "metadata": {
    "colab": {
      "name": "MM_Project",
      "provenance": [],
      "collapsed_sections": [],
      "toc_visible": true
    },
    "kernelspec": {
      "name": "python3",
      "display_name": "Python 3"
    }
  },
  "cells": [
    {
      "cell_type": "code",
      "metadata": {
        "id": "8eiS09mervQf",
        "colab_type": "code",
        "colab": {}
      },
      "source": [
        "import numpy as np\n",
        "import sklearn\n",
        "import networkx as nx\n",
        "from matplotlib import pyplot as plt\n",
        "from shapely.geometry import Polygon\n",
        "import sys\n",
        "sys.setrecursionlimit(10**6) \n",
        "\n",
        "np.random.seed(42)"
      ],
      "execution_count": 0,
      "outputs": []
    },
    {
      "cell_type": "markdown",
      "metadata": {
        "id": "7MP3IcDorFt4",
        "colab_type": "text"
      },
      "source": [
        "# **(X,Y) configuration space:**"
      ]
    },
    {
      "cell_type": "code",
      "metadata": {
        "id": "FwNK-4c0weNM",
        "colab_type": "code",
        "colab": {}
      },
      "source": [
        "def RandomPosition(max_x, max_y):\n",
        "  xc = np.random.randint(max_x)\n",
        "  yc = np.random.randint(max_y)\n",
        "  return [xc,yc]"
      ],
      "execution_count": 0,
      "outputs": []
    },
    {
      "cell_type": "code",
      "metadata": {
        "id": "Dvj7eP6fvxfM",
        "colab_type": "code",
        "outputId": "c114e6e9-b5f8-42ba-e829-8730ab0d9a50",
        "colab": {
          "base_uri": "https://localhost:8080/",
          "height": 267
        }
      },
      "source": [
        "###------ENVIRONMENT-------------\n",
        "max_x = 50\n",
        "max_y = 50\n",
        "\n",
        "c_map = np.zeros((max_x, max_y))\n",
        "no_obstacles = 5\n",
        "o_size = 4\n",
        "\n",
        "obstacles = []\n",
        "i = 0\n",
        "while i < no_obstacles:\n",
        "  ob_pos = RandomPosition(max_x, max_y)\n",
        "  if ob_pos[0] < o_size/2 and ob_pos[0] > max_x-o_size/2 and ob_pos[1] < o_size/2 and ob_pos[1] > max_y-o_size/2:\n",
        "    continue\n",
        "  x1 = int(ob_pos[0]-o_size/2)\n",
        "  x2 = int(ob_pos[0]+o_size/2)\n",
        "  y1 = int(ob_pos[1]-o_size/2)\n",
        "  y2 = int(ob_pos[1]+o_size/2)\n",
        "  #print(x1, x2, y1, y2, ob_pos)\n",
        "  c_map[x1:x2, y1:y2] = np.ones((o_size, o_size))\n",
        "  obstacles.append(ob_pos)\n",
        "  i += 1\n",
        "\n",
        "Qstart = [0,0]\n",
        "Qgoal = [25, 6]\n",
        "step_size = 3\n",
        "\n",
        "plt.imshow(c_map, interpolation='nearest')\n",
        "plt.show()"
      ],
      "execution_count": 0,
      "outputs": [
        {
          "output_type": "display_data",
          "data": {
            "image/png": "[encoded data removed]",
            "text/plain": [
              "<Figure size 432x288 with 1 Axes>"
            ]
          },
          "metadata": {
            "tags": [],
            "needs_background": "light"
          }
        }
      ]
    },
    {
      "cell_type": "code",
      "metadata": {
        "id": "VHrElni52f87",
        "colab_type": "code",
        "colab": {}
      },
      "source": [
        "class Node():\n",
        "  def __init__(self, idx, Q, dictionary, G):\n",
        "    self.idx = idx\n",
        "    self.xpos = Q[0]\n",
        "    self.ypos = Q[1]\n",
        "    self.neighbors = []\n",
        "    self.parent = None\n",
        "    dictionary[idx] = (Q[0], Q[1])\n",
        "    G.add_node(idx)"
      ],
      "execution_count": 0,
      "outputs": []
    },
    {
      "cell_type": "code",
      "metadata": {
        "id": "j2jpLwgUduzG",
        "colab_type": "code",
        "colab": {}
      },
      "source": [
        "class Tree():\n",
        "  def __init__(self, curr_iter, curr_node):\n",
        "    self.root = curr_node\n",
        "\n",
        "  def find_dist(self, q0, q1):\n",
        "    xval = q0.xpos-q1[0]\n",
        "    yval = q0.ypos-q1[1]\n",
        "    dist_val = np.sqrt(np.square(xval)+np.square(yval))\n",
        "    return dist_val\n",
        "\n",
        "  def iterate(self, q, qc, visited):\n",
        "    if q.neighbors == []:\n",
        "      return 10000, q\n",
        "    \n",
        "    #print('checking',[q.xpos, q.ypos],'for',qc)\n",
        "    m1 = 1000000\n",
        "    e1 = None\n",
        "\n",
        "    for i in range(len(q.neighbors)):\n",
        "      new_dist = self.find_dist(q.neighbors[i], qc)\n",
        "\n",
        "      if new_dist < m1:\n",
        "        e1 = q.neighbors[i]\n",
        "        m1 = new_dist\n",
        "\n",
        "      #explore neighbor \n",
        "      if q.neighbors[i] not in visited:\n",
        "        m2, e2 = self.iterate(q.neighbors[i], qc, visited)\n",
        "        visited.append(q.neighbors[i])\n",
        "\n",
        "      if m2 < m1:\n",
        "        m1 = m2 \n",
        "        e1 = e2\n",
        "\n",
        "    return m1, e1\n",
        "\n",
        "  def steer(self, Q_curr, Q_new, step_size):\n",
        "    q1 = np.asarray(Q_curr)\n",
        "    q2 = np.asarray(Q_new)\n",
        "\n",
        "    if q1[0] == q2[0] and q1[1] == q2[1]:\n",
        "      return q2\n",
        "\n",
        "    qsub = np.subtract(q2,q1)\n",
        "    q_dir = qsub/np.linalg.norm(qsub)\n",
        "\n",
        "    q_change = q_dir * step_size\n",
        "\n",
        "    q_new = q_change + q1\n",
        "\n",
        "    q_steer = [round(q_new[0]), round(q_new[1])]\n",
        "    #print(q1, q_change, q_new, q_steer)\n",
        "\n",
        "    return q_steer\n",
        "\n",
        "  def link(self, q1, q2, G):\n",
        "    if q2 not in q1.neighbors:\n",
        "      q1.neighbors.append(q2)\n",
        "      q2.parent = q1\n",
        "      G.add_edge(q1.idx, q2.idx)\n",
        "    return\n",
        "\n",
        "  def find_closest(self, Q_curr):\n",
        "    min_dist, explore = self.iterate(self.root, Q_curr, [])\n",
        "    return explore"
      ],
      "execution_count": 0,
      "outputs": []
    },
    {
      "cell_type": "markdown",
      "metadata": {
        "id": "54L6Mv3QrMgR",
        "colab_type": "text"
      },
      "source": [
        "# **RRT**"
      ]
    },
    {
      "cell_type": "code",
      "metadata": {
        "id": "PAgCkO3StvQC",
        "colab_type": "code",
        "outputId": "0935387a-122c-485a-d738-e37efc4bb3bc",
        "colab": {
          "base_uri": "https://localhost:8080/",
          "height": 34
        }
      },
      "source": [
        "num_iters = 1000\n",
        "\n",
        "step_size = 3\n",
        "curr_iter = 1\n",
        "dictionary = {}\n",
        "\n",
        "G = nx.Graph()\n",
        "root = Node(0, Qstart, dictionary, G)\n",
        "graph = Tree(0, root)\n",
        "\n",
        "till_now = [Qstart]\n",
        "curr_node = root\n",
        "\n",
        "while curr_iter < num_iters:\n",
        "  pos = RandomPosition(max_x, max_y)\n",
        "  #print('NEW ITERATION')\n",
        "  \n",
        "  if c_map[pos[0], pos[1]] == 1: #colliding with obstacle\n",
        "    #print('COLLISION')\n",
        "    continue\n",
        "\n",
        "  nearest_node =graph.find_closest(pos)\n",
        "  c2 = [nearest_node.xpos, nearest_node.ypos]\n",
        "\n",
        "  steer_node = graph.steer(c2, pos, step_size)\n",
        "\n",
        "  add_node = Node(curr_iter, steer_node, dictionary, G)\n",
        "  graph.link(nearest_node, add_node, G)\n",
        "  #print('connection between', nearest_node.idx, add_node.idx)\n",
        "  #print('moving from', [curr_node.xpos, curr_node.ypos], [add_node.xpos, add_node.ypos])\n",
        "\n",
        "  curr_node = add_node\n",
        "  curr_iter += 1\n",
        "\n",
        "  till_now.append(steer_node)\n",
        "  add = [add_node.xpos, add_node.ypos]\n",
        "\n",
        "  #print(add, Qgoal)\n",
        "  if add == Qgoal:\n",
        "    print('reached goal', add)\n",
        "    break\n"
      ],
      "execution_count": 0,
      "outputs": [
        {
          "output_type": "stream",
          "text": [
            "reached goal [25.0, 6.0]\n"
          ],
          "name": "stdout"
        }
      ]
    },
    {
      "cell_type": "code",
      "metadata": {
        "id": "6CDW06kIFmsx",
        "colab_type": "code",
        "outputId": "02653aba-e3c3-4463-bf47-b0c79ef71e94",
        "colab": {
          "base_uri": "https://localhost:8080/",
          "height": 72
        }
      },
      "source": [
        "v_path = nx.algorithms.shortest_path(G, root.idx, add_node.idx)\n",
        "print('Vertices for shortest path:',v_path)\n",
        "\n",
        "path = []\n",
        "for p in v_path:\n",
        "  path.append(dictionary[p])\n",
        "print('Actual path:',path)"
      ],
      "execution_count": 0,
      "outputs": [
        {
          "output_type": "stream",
          "text": [
            "Vertices for shortest path: [0, 1, 2, 3, 4, 5, 6, 7, 9, 10, 13, 22, 23, 25, 445]\n",
            "Actual path: [(0, 0), (1.0, 3.0), (3.0, 5.0), (6.0, 7.0), (9.0, 8.0), (9.0, 11.0), (9.0, 14.0), (12.0, 15.0), (15.0, 15.0), (18.0, 14.0), (19.0, 11.0), (21.0, 9.0), (24.0, 8.0), (27.0, 8.0), (25.0, 6.0)]\n"
          ],
          "name": "stdout"
        }
      ]
    },
    {
      "cell_type": "markdown",
      "metadata": {
        "id": "nYWbEDkwUihO",
        "colab_type": "text"
      },
      "source": [
        "# **2d Mobile Manipulator**"
      ]
    },
    {
      "cell_type": "code",
      "metadata": {
        "id": "-ltODPhCDkx8",
        "colab_type": "code",
        "outputId": "c3f61a8f-f0f0-44c6-9ffc-a520ceedb7ae",
        "colab": {
          "base_uri": "https://localhost:8080/",
          "height": 106
        }
      },
      "source": [
        "!pip install gtsam"
      ],
      "execution_count": 58,
      "outputs": [
        {
          "output_type": "stream",
          "text": [
            "Requirement already satisfied: gtsam in /usr/local/lib/python3.6/dist-packages (4.0.2)\n",
            "Requirement already satisfied: Cython>=0.25.2 in /usr/local/lib/python3.6/dist-packages (from gtsam) (0.29.16)\n",
            "Requirement already satisfied: numpy>=1.12.0 in /usr/local/lib/python3.6/dist-packages (from gtsam) (1.18.2)\n",
            "Requirement already satisfied: backports-abc>=0.5 in /usr/local/lib/python3.6/dist-packages (from gtsam) (0.5)\n"
          ],
          "name": "stdout"
        }
      ]
    },
    {
      "cell_type": "code",
      "metadata": {
        "id": "RCmKi4U8DMds",
        "colab_type": "code",
        "colab": {}
      },
      "source": [
        "from mobileManipulator import FourLinkMM\n",
        "import gtsam\n",
        "import gtsam.utils.plot as gtsam_plot\n",
        "from gtsam import Pose2\n",
        "from utils import *"
      ],
      "execution_count": 0,
      "outputs": []
    },
    {
      "cell_type": "code",
      "metadata": {
        "id": "Ouk_NFDDTL0Z",
        "colab_type": "code",
        "colab": {}
      },
      "source": [
        "def RandomQ(Qgoal):\n",
        "  pi = 3.14\n",
        "\n",
        "  if np.random.randn() <= 0.15: #15% probability that it returns Qgoal\n",
        "    print('HIT GOAL')\n",
        "    return Qgoal\n",
        "\n",
        "  #Each t[i] ranges from -180 to 180\n",
        "  t1 = np.random.randn()*360-180\n",
        "  t2 = np.random.randn()*360-180\n",
        "  t3 = np.random.randn()*360-180\n",
        "  t4 = np.random.randn()*360-180\n",
        "  return [t1,t2,t3,t4]"
      ],
      "execution_count": 0,
      "outputs": []
    },
    {
      "cell_type": "code",
      "metadata": {
        "id": "uaf-w2z_K-N2",
        "colab_type": "code",
        "colab": {}
      },
      "source": [
        "class Node_manip():\n",
        "  def __init__(self, idx, Q, dictionary, G):\n",
        "    self.idx = idx\n",
        "    self.t1 = Q[0]\n",
        "    self.t2 = Q[1]\n",
        "    self.t3 = Q[2]\n",
        "    self.t4 = Q[3]\n",
        "    self.neighbors = []\n",
        "    self.parent = None\n",
        "    dictionary[idx] = Q\n",
        "    G.add_node(idx)"
      ],
      "execution_count": 0,
      "outputs": []
    },
    {
      "cell_type": "code",
      "metadata": {
        "id": "zF8W2uq7L7p_",
        "colab_type": "code",
        "colab": {}
      },
      "source": [
        "class Tree_manip():\n",
        "  def __init__(self, curr_iter, curr_node):\n",
        "    self.root = curr_node\n",
        "\n",
        "  def find_dist(self, q0, q1):\n",
        "    val1 = q0.t1-q1[0]\n",
        "    val2 = q0.t2-q1[1]\n",
        "    val3 = q0.t3-q1[2]\n",
        "    val4 = q0.t4-q1[3]\n",
        "    dist_val = np.sqrt(np.square(val1)+np.square(val2)+np.square(val3)+np.square(val4))\n",
        "    return dist_val\n",
        "\n",
        "  def iterate(self, q, qc):\n",
        "    if q.neighbors == []: #no neighbors\n",
        "      return 10000, q\n",
        "    \n",
        "    m1 = 1000000\n",
        "    e1 = None\n",
        "\n",
        "    for i in range(len(q.neighbors)):\n",
        "      new_dist = self.find_dist(q.neighbors[i], qc)\n",
        "\n",
        "      if new_dist < m1:\n",
        "        e1 = q.neighbors[i]\n",
        "        m1 = new_dist\n",
        "\n",
        "      #explore neighbor \n",
        "      m2, e2 = self.iterate(e1, qc)\n",
        "      if m2 < m1:\n",
        "        m1 = m2 \n",
        "        e1 = e2\n",
        "\n",
        "    return m1, e1\n",
        "\n",
        "  def steer(self, Q_curr, Q_new, step_size):\n",
        "    q1 = np.asarray(Q_curr)\n",
        "    q2 = np.asarray(Q_new) #go in direction of q2\n",
        "    q_sub = np.subtract(q2,q1)\n",
        "    q_dir = q_sub/np.linalg.norm(q_sub)\n",
        "    q_dir *= step_size\n",
        "\n",
        "    q_new = q1+q_dir\n",
        "    q_steer = [q_new[0], q_new[1], q_new[2], q_new[3]]\n",
        "    return q_steer\n",
        "\n",
        "  def link(self, q1, q2, G):\n",
        "    if q2 not in q1.neighbors:\n",
        "      q1.neighbors.append(q2)\n",
        "      q2.parent = q1\n",
        "      G.add_edge(q1.idx, q2.idx)\n",
        "    return\n",
        "\n",
        "  def find_closest(self, Q_curr):\n",
        "    min_dist, explore = self.iterate(self.root, Q_curr)\n",
        "    return explore"
      ],
      "execution_count": 0,
      "outputs": []
    },
    {
      "cell_type": "code",
      "metadata": {
        "id": "NLSPqyyZXC7L",
        "colab_type": "code",
        "colab": {}
      },
      "source": [
        "arm = FourLinkMM()\n",
        "obstacles = [] #[Polygon([(-10,6), (-1,-1), (-3,6)])]"
      ],
      "execution_count": 0,
      "outputs": []
    },
    {
      "cell_type": "code",
      "metadata": {
        "id": "ttBCu64wPcpW",
        "colab_type": "code",
        "colab": {
          "base_uri": "https://localhost:8080/",
          "height": 680
        },
        "outputId": "0d5c49a8-3e9e-4fed-f78c-1e611b3203bc"
      },
      "source": [
        "num_iters = 1000\n",
        "step_size = 3\n",
        "\n",
        "dictionary = {}\n",
        "Qstart = [0,0,0,0]\n",
        "Qgoal = [0,25,30,12]\n",
        "curr_iter = 1\n",
        "G = nx.Graph()\n",
        "lim = 15 #The robot can stop at a configuration (q1,q2,q3,q4) where q[i] is at most 15 degrees away from Qgoal[i]\n",
        "\n",
        "root = Node_manip(0, Qstart, dictionary, G)\n",
        "graph = Tree_manip(0, root)\n",
        "\n",
        "till_now = [Qstart]\n",
        "curr_node = root\n",
        "\n",
        "while curr_iter < num_iters:\n",
        "  pos = RandomQ(Qgoal)\n",
        "  #print('NEW ITERATION')\n",
        "  \n",
        "  q = np.radians(vector4(pos[0], pos[1], pos[2], pos[3]))\n",
        "  c0 = [curr_node.t1, curr_node.t2, curr_node.t3, curr_node.t4]\n",
        "\n",
        "  sTt_ee = arm.fwd_kinematics(q)\n",
        "  sTt_b, qdash = arm.ik2(sTt_ee)\n",
        "\n",
        "  if arm.check_collision_with_obstacles(obstacles, sTt_b, c0) == True: #colliding with obstacle\n",
        "    print('collide')\n",
        "    continue\n",
        "\n",
        "  nearest_node =graph.find_closest(pos)\n",
        "  c1 = [nearest_node.t1, nearest_node.t2, nearest_node.t3, nearest_node.t4]\n",
        "\n",
        "  steer_node = graph.steer(c1, pos, step_size)\n",
        "\n",
        "  add_node = Node_manip(curr_iter, steer_node, dictionary, G)\n",
        "  graph.link(nearest_node, add_node, G)\n",
        "\n",
        "  curr_node = add_node\n",
        "  curr_iter += 1\n",
        "\n",
        "  #print(till_now)\n",
        "  till_now.append(steer_node)\n",
        "  add = [add_node.t1, add_node.t2, add_node.t3, add_node.t4]\n",
        "  #print('add',add,Qgoal)\n",
        "  if abs(add[0] -Qgoal[0]) <= lim and abs(add[1]-Qgoal[1]) <= lim and abs(add[2]-Qgoal[2]) <= lim and abs(add[3]-Qgoal[3]) <= lim:\n",
        "    print('reached goal')\n",
        "    break"
      ],
      "execution_count": 87,
      "outputs": [
        {
          "output_type": "stream",
          "text": [
            "FINAL ERROR: 9.808466315874947e-06\n",
            "add [0.2597792836302929, -1.181370819022783, -2.618843203673957, -0.8237341721263575] [0, 25, 30, 12]\n",
            "HIT GOAL\n",
            "FINAL ERROR: 9.611605031818378e-06\n",
            "add [0.24196541079041775, 0.613967146445775, -0.38206774993521675, 0.05562913460955343] [0, 25, 30, 12]\n",
            "HIT GOAL\n",
            "FINAL ERROR: 9.611605031818378e-06\n",
            "add [0.2241515379505426, 2.4093051119143327, 1.8547077038035238, 0.9349924413454643] [0, 25, 30, 12]\n",
            "HIT GOAL\n",
            "FINAL ERROR: 9.611605031818378e-06\n",
            "add [0.20633766511066745, 4.20464307738289, 4.091483157542264, 1.8143557480813752] [0, 25, 30, 12]\n",
            "HIT GOAL\n",
            "FINAL ERROR: 9.611605031818378e-06\n",
            "add [0.1885237922707923, 5.999981042851448, 6.3282586112810035, 2.693719054817286] [0, 25, 30, 12]\n",
            "FINAL ERROR: 9.758370065745573e-06\n",
            "add [1.8350827107024266, -3.4947373454904733, -3.697311680411463, -0.7632348204183965] [0, 25, 30, 12]\n",
            "HIT GOAL\n",
            "FINAL ERROR: 9.611605031818378e-06\n",
            "add [0.17070991943091718, 7.795319008320005, 8.565034065019745, 3.573082361553197] [0, 25, 30, 12]\n",
            "FINAL ERROR: 9.999206473635785e-06\n",
            "add [3.716004902496464, -4.8249131367286715, -3.7975889460029615, -2.6822732626665027] [0, 25, 30, 12]\n",
            "FINAL ERROR: 9.976625400135019e-06\n",
            "add [-2.058187458045952, -0.9905160101513074, -3.640735989724252, 0.7719912930561122] [0, 25, 30, 12]\n",
            "HIT GOAL\n",
            "FINAL ERROR: 9.611605031818378e-06\n",
            "add [0.15289604659104203, 9.590656973788564, 10.801809518758485, 4.452445668289108] [0, 25, 30, 12]\n",
            "FINAL ERROR: 9.982109537147622e-06\n",
            "add [-2.093693576550533, 11.179214954464323, 10.91604509129381, 5.642516607851735] [0, 25, 30, 12]\n",
            "HIT GOAL\n",
            "FINAL ERROR: 9.611605031818378e-06\n",
            "add [-1.8372722181225316, 12.871890767013978, 13.253318174937462, 6.421137961929701] [0, 25, 30, 12]\n",
            "FINAL ERROR: 9.980485015794152e-06\n",
            "add [-3.6783633777937075, -1.7342252608372406, -5.1726328205596275, -1.0922025378504858] [0, 25, 30, 12]\n",
            "HIT GOAL\n",
            "FINAL ERROR: 9.611605031818378e-06\n",
            "add [-1.58085085969453, 14.564566579563634, 15.590591258581112, 7.199759316007668] [0, 25, 30, 12]\n",
            "reached goal\n"
          ],
          "name": "stdout"
        }
      ]
    },
    {
      "cell_type": "code",
      "metadata": {
        "id": "GNJhr5C5Jlhz",
        "colab_type": "code",
        "outputId": "2339ff98-4892-4ac2-ea5d-47d3235ad533",
        "colab": {
          "base_uri": "https://localhost:8080/",
          "height": 72
        }
      },
      "source": [
        "v_path = nx.algorithms.shortest_path(G, root.idx, add_node.idx)\n",
        "print('Vertices for shortest path:',v_path)\n",
        "\n",
        "path = []\n",
        "for p in v_path:\n",
        "  path.append(dictionary[p])\n",
        "print('Actual path:',path)"
      ],
      "execution_count": 88,
      "outputs": [
        {
          "output_type": "stream",
          "text": [
            "Vertices for shortest path: [0, 1, 2, 3, 4, 5, 7, 10, 11, 12, 14]\n",
            "Actual path: [[0, 0, 0, 0], [0.2597792836302929, -1.181370819022783, -2.618843203673957, -0.8237341721263575], [0.24196541079041775, 0.613967146445775, -0.38206774993521675, 0.05562913460955343], [0.2241515379505426, 2.4093051119143327, 1.8547077038035238, 0.9349924413454643], [0.20633766511066745, 4.20464307738289, 4.091483157542264, 1.8143557480813752], [0.1885237922707923, 5.999981042851448, 6.3282586112810035, 2.693719054817286], [0.17070991943091718, 7.795319008320005, 8.565034065019745, 3.573082361553197], [0.15289604659104203, 9.590656973788564, 10.801809518758485, 4.452445668289108], [-2.093693576550533, 11.179214954464323, 10.91604509129381, 5.642516607851735], [-1.8372722181225316, 12.871890767013978, 13.253318174937462, 6.421137961929701], [-1.58085085969453, 14.564566579563634, 15.590591258581112, 7.199759316007668]]\n"
          ],
          "name": "stdout"
        }
      ]
    }
  ]
}