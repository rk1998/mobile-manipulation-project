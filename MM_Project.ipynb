{
  "nbformat": 4,
  "nbformat_minor": 0,
  "metadata": {
    "colab": {
      "name": "MM_Project",
      "provenance": [],
      "collapsed_sections": [],
      "toc_visible": true
    },
    "kernelspec": {
      "name": "python3",
      "display_name": "Python 3"
    }
  },
  "cells": [
    {
      "cell_type": "code",
      "metadata": {
        "id": "8eiS09mervQf",
        "colab_type": "code",
        "colab": {}
      },
      "source": [
        "import numpy as np\n",
        "import sklearn\n",
        "import networkx as nx\n",
        "from matplotlib import pyplot as plt\n",
        "from shapely.geometry import Polygon\n",
        "import sys\n",
        "sys.setrecursionlimit(10**6) \n",
        "\n",
        "np.random.seed(42)"
      ],
      "execution_count": 0,
      "outputs": []
    },
    {
      "cell_type": "markdown",
      "metadata": {
        "id": "7MP3IcDorFt4",
        "colab_type": "text"
      },
      "source": [
        "# **(X,Y) configuration space:**"
      ]
    },
    {
      "cell_type": "code",
      "metadata": {
        "id": "FwNK-4c0weNM",
        "colab_type": "code",
        "colab": {}
      },
      "source": [
        "def RandomPosition(max_x, max_y):\n",
        "  xc = np.random.randint(max_x)\n",
        "  yc = np.random.randint(max_y)\n",
        "  return [xc,yc]"
      ],
      "execution_count": 0,
      "outputs": []
    },
    {
      "cell_type": "code",
      "metadata": {
        "id": "Dvj7eP6fvxfM",
        "colab_type": "code",
        "outputId": "c114e6e9-b5f8-42ba-e829-8730ab0d9a50",
        "colab": {
          "base_uri": "https://localhost:8080/",
          "height": 267
        }
      },
      "source": [
        "###------ENVIRONMENT-------------\n",
        "max_x = 50\n",
        "max_y = 50\n",
        "\n",
        "c_map = np.zeros((max_x, max_y))\n",
        "no_obstacles = 5\n",
        "o_size = 4\n",
        "\n",
        "obstacles = []\n",
        "i = 0\n",
        "while i < no_obstacles:\n",
        "  ob_pos = RandomPosition(max_x, max_y)\n",
        "  if ob_pos[0] < o_size/2 and ob_pos[0] > max_x-o_size/2 and ob_pos[1] < o_size/2 and ob_pos[1] > max_y-o_size/2:\n",
        "    continue\n",
        "  x1 = int(ob_pos[0]-o_size/2)\n",
        "  x2 = int(ob_pos[0]+o_size/2)\n",
        "  y1 = int(ob_pos[1]-o_size/2)\n",
        "  y2 = int(ob_pos[1]+o_size/2)\n",
        "  #print(x1, x2, y1, y2, ob_pos)\n",
        "  c_map[x1:x2, y1:y2] = np.ones((o_size, o_size))\n",
        "  obstacles.append(ob_pos)\n",
        "  i += 1\n",
        "\n",
        "Qstart = [0,0]\n",
        "Qgoal = [25, 6]\n",
        "step_size = 3\n",
        "\n",
        "plt.imshow(c_map, interpolation='nearest')\n",
        "plt.show()"
      ],
      "execution_count": 0,
      "outputs": [
        {
          "output_type": "display_data",
          "data": {
            "image/png": "[encoded data removed]",
            "text/plain": [
              "<Figure size 432x288 with 1 Axes>"
            ]
          },
          "metadata": {
            "tags": [],
            "needs_background": "light"
          }
        }
      ]
    },
    {
      "cell_type": "code",
      "metadata": {
        "id": "VHrElni52f87",
        "colab_type": "code",
        "colab": {}
      },
      "source": [
        "class Node():\n",
        "  def __init__(self, idx, Q, dictionary, G):\n",
        "    self.idx = idx\n",
        "    self.xpos = Q[0]\n",
        "    self.ypos = Q[1]\n",
        "    self.neighbors = []\n",
        "    self.parent = None\n",
        "    dictionary[idx] = (Q[0], Q[1])\n",
        "    G.add_node(idx)"
      ],
      "execution_count": 0,
      "outputs": []
    },
    {
      "cell_type": "code",
      "metadata": {
        "id": "j2jpLwgUduzG",
        "colab_type": "code",
        "colab": {}
      },
      "source": [
        "class Tree():\n",
        "  def __init__(self, curr_iter, curr_node):\n",
        "    self.root = curr_node\n",
        "\n",
        "  def find_dist(self, q0, q1):\n",
        "    xval = q0.xpos-q1[0]\n",
        "    yval = q0.ypos-q1[1]\n",
        "    dist_val = np.sqrt(np.square(xval)+np.square(yval))\n",
        "    return dist_val\n",
        "\n",
        "  def iterate(self, q, qc, visited):\n",
        "    if q.neighbors == []:\n",
        "      return 10000, q\n",
        "    \n",
        "    #print('checking',[q.xpos, q.ypos],'for',qc)\n",
        "    m1 = 1000000\n",
        "    e1 = None\n",
        "\n",
        "    for i in range(len(q.neighbors)):\n",
        "      new_dist = self.find_dist(q.neighbors[i], qc)\n",
        "\n",
        "      if new_dist < m1:\n",
        "        e1 = q.neighbors[i]\n",
        "        m1 = new_dist\n",
        "\n",
        "      #explore neighbor \n",
        "      if q.neighbors[i] not in visited:\n",
        "        m2, e2 = self.iterate(q.neighbors[i], qc, visited)\n",
        "        visited.append(q.neighbors[i])\n",
        "\n",
        "      if m2 < m1:\n",
        "        m1 = m2 \n",
        "        e1 = e2\n",
        "\n",
        "    return m1, e1\n",
        "\n",
        "  def steer(self, Q_curr, Q_new, step_size):\n",
        "    q1 = np.asarray(Q_curr)\n",
        "    q2 = np.asarray(Q_new)\n",
        "\n",
        "    if q1[0] == q2[0] and q1[1] == q2[1]:\n",
        "      return q2\n",
        "\n",
        "    qsub = np.subtract(q2,q1)\n",
        "    q_dir = qsub/np.linalg.norm(qsub)\n",
        "\n",
        "    q_change = q_dir * step_size\n",
        "\n",
        "    q_new = q_change + q1\n",
        "\n",
        "    q_steer = [round(q_new[0]), round(q_new[1])]\n",
        "    #print(q1, q_change, q_new, q_steer)\n",
        "\n",
        "    return q_steer\n",
        "\n",
        "  def link(self, q1, q2, G):\n",
        "    if q2 not in q1.neighbors:\n",
        "      q1.neighbors.append(q2)\n",
        "      q2.parent = q1\n",
        "      G.add_edge(q1.idx, q2.idx)\n",
        "    return\n",
        "\n",
        "  def find_closest(self, Q_curr):\n",
        "    min_dist, explore = self.iterate(self.root, Q_curr, [])\n",
        "    return explore"
      ],
      "execution_count": 0,
      "outputs": []
    },
    {
      "cell_type": "markdown",
      "metadata": {
        "id": "54L6Mv3QrMgR",
        "colab_type": "text"
      },
      "source": [
        "# **RRT**"
      ]
    },
    {
      "cell_type": "code",
      "metadata": {
        "id": "PAgCkO3StvQC",
        "colab_type": "code",
        "outputId": "0935387a-122c-485a-d738-e37efc4bb3bc",
        "colab": {
          "base_uri": "https://localhost:8080/",
          "height": 34
        }
      },
      "source": [
        "num_iters = 1000\n",
        "\n",
        "step_size = 3\n",
        "curr_iter = 1\n",
        "dictionary = {}\n",
        "\n",
        "G = nx.Graph()\n",
        "root = Node(0, Qstart, dictionary, G)\n",
        "graph = Tree(0, root)\n",
        "\n",
        "till_now = [Qstart]\n",
        "curr_node = root\n",
        "\n",
        "while curr_iter < num_iters:\n",
        "  pos = RandomPosition(max_x, max_y)\n",
        "  #print('NEW ITERATION')\n",
        "  \n",
        "  if c_map[pos[0], pos[1]] == 1: #colliding with obstacle\n",
        "    #print('COLLISION')\n",
        "    continue\n",
        "\n",
        "  nearest_node =graph.find_closest(pos)\n",
        "  c2 = [nearest_node.xpos, nearest_node.ypos]\n",
        "\n",
        "  steer_node = graph.steer(c2, pos, step_size)\n",
        "\n",
        "  add_node = Node(curr_iter, steer_node, dictionary, G)\n",
        "  graph.link(nearest_node, add_node, G)\n",
        "  #print('connection between', nearest_node.idx, add_node.idx)\n",
        "  #print('moving from', [curr_node.xpos, curr_node.ypos], [add_node.xpos, add_node.ypos])\n",
        "\n",
        "  curr_node = add_node\n",
        "  curr_iter += 1\n",
        "\n",
        "  till_now.append(steer_node)\n",
        "  add = [add_node.xpos, add_node.ypos]\n",
        "\n",
        "  #print(add, Qgoal)\n",
        "  if add == Qgoal:\n",
        "    print('reached goal', add)\n",
        "    break\n"
      ],
      "execution_count": 0,
      "outputs": [
        {
          "output_type": "stream",
          "text": [
            "reached goal [25.0, 6.0]\n"
          ],
          "name": "stdout"
        }
      ]
    },
    {
      "cell_type": "code",
      "metadata": {
        "id": "6CDW06kIFmsx",
        "colab_type": "code",
        "outputId": "02653aba-e3c3-4463-bf47-b0c79ef71e94",
        "colab": {
          "base_uri": "https://localhost:8080/",
          "height": 72
        }
      },
      "source": [
        "v_path = nx.algorithms.shortest_path(G, root.idx, add_node.idx)\n",
        "print('Vertices for shortest path:',v_path)\n",
        "\n",
        "path = []\n",
        "for p in v_path:\n",
        "  path.append(dictionary[p])\n",
        "print('Actual path:',path)"
      ],
      "execution_count": 0,
      "outputs": [
        {
          "output_type": "stream",
          "text": [
            "Vertices for shortest path: [0, 1, 2, 3, 4, 5, 6, 7, 9, 10, 13, 22, 23, 25, 445]\n",
            "Actual path: [(0, 0), (1.0, 3.0), (3.0, 5.0), (6.0, 7.0), (9.0, 8.0), (9.0, 11.0), (9.0, 14.0), (12.0, 15.0), (15.0, 15.0), (18.0, 14.0), (19.0, 11.0), (21.0, 9.0), (24.0, 8.0), (27.0, 8.0), (25.0, 6.0)]\n"
          ],
          "name": "stdout"
        }
      ]
    },
    {
      "cell_type": "code",
      "metadata": {
        "id": "1uhW2WC3qy_y",
        "colab_type": "code",
        "outputId": "c236ee9b-c24a-43f0-bed4-3012b74b9019",
        "colab": {
          "base_uri": "https://localhost:8080/",
          "height": 72
        }
      },
      "source": [
        "###-----NOT CORRECT--------\n",
        "curr_node = add_node\n",
        "curr = [curr_node.xpos, curr_node.ypos]\n",
        "\n",
        "path = []\n",
        "while curr != Qstart:\n",
        "  path.append(curr)\n",
        "  ptr = curr_node.parent\n",
        "  curr = [ptr.xpos, ptr.ypos]\n",
        "  curr_node = ptr\n",
        "\n",
        "path.append(Qstart)\n",
        "print('PATH IS:')\n",
        "print(path[::-1])"
      ],
      "execution_count": 0,
      "outputs": [
        {
          "output_type": "stream",
          "text": [
            "PATH IS:\n",
            "[[0, 0], [2.0, 2.0], [2.0, 5.0], [4.0, 7.0], [7.0, 7.0], [9.0, 9.0], [3.0, 10.0], [9.0, 9.0], [12.0, 9.0], [13.0, 12.0], [15.0, 14.0], [16.0, 17.0], [19.0, 18.0], [14.0, 19.0], [7.0, 4.0], [22.0, 18.0], [12.0, 21.0], [11.0, 24.0], [25.0, 18.0], [25.0, 21.0], [9.0, 26.0], [11.0, 28.0], [27.0, 16.0], [30.0, 15.0], [27.0, 23.0], [11.0, 31.0], [12.0, 34.0], [30.0, 23.0], [6.0, 24.0], [15.0, 35.0], [15.0, 9.0], [33.0, 24.0], [10.0, 36.0], [11.0, 21.0], [18.0, 36.0], [21.0, 36.0], [24.0, 37.0], [4.0, 22.0], [27.0, 13.0], [36.0, 22.0], [11.0, 27.0], [27.0, 38.0], [29.0, 40.0], [31.0, 38.0], [6.0, 5.0], [31.0, 35.0], [23.0, 34.0], [6.0, 11.0], [15.0, 17.0], [34.0, 35.0], [12.0, 6.0], [31.0, 42.0], [8.0, 31.0], [10.0, 6.0], [33.0, 22.0], [26.0, 10.0], [39.0, 22.0], [7.0, 37.0], [4.0, 26.0], [39.0, 25.0], [33.0, 32.0], [27.0, 10.0], [15.0, 22.0], [42.0, 25.0], [2.0, 24.0], [32.0, 13.0], [5.0, 31.0], [23.0, 40.0], [11.0, 14.0], [31.0, 26.0], [20.0, 40.0], [16.0, 25.0], [35.0, 11.0], [39.0, 25.0], [23.0, 9.0], [41.0, 20.0], [10.0, 11.0], [7.0, 40.0], [5.0, 42.0], [29.0, 28.0], [9.0, 42.0], [3.0, 44.0], [37.0, 35.0], [23.0, 43.0], [32.0, 40.0], [34.0, 43.0], [24.0, 46.0], [38.0, 10.0], [17.0, 40.0], [9.0, 33.0], [40.0, 35.0], [26.0, 33.0], [14.0, 31.0], [21.0, 45.0], [5.0, 5.0], [38.0, 20.0], [18.0, 13.0], [9.0, 45.0], [13.0, 29.0], [28.0, 7.0], [29.0, 4.0], [28, 7], [37.0, 43.0], [40.0, 43.0], [33.0, 16.0], [41.0, 10.0], [11.0, 47.0], [9.0, 29.0], [27.0, 42.0], [4.0, 40.0], [14.0, 4.0], [34.0, 46.0], [24.0, 12.0], [10, 36], [23.0, 16.0], [18.0, 22.0], [26.0, 5.0], [3.0, 41.0], [29.0, 33.0], [16.0, 43.0], [42.0, 17.0], [2.0, 32.0], [8.0, 13.0], [41.0, 7.0], [29.0, 30.0], [37.0, 46.0], [29.0, 1.0], [42.0, 37.0], [16.0, 20.0], [23.0, 49.0], [19.0, 27.0], [20.0, 43.0], [9.0, 35.0], [9, 35], [27.0, 39.0], [44.0, 20.0], [23.0, 43.0], [40.0, 4.0], [7.0, 47.0], [28.0, 21.0], [27.0, 3.0], [43.0, 12.0], [44.0, 9.0], [35.0, 8.0], [26, 33], [-1.0, 31.0], [26.0, 28.0], [5.0, 49.0], [2.0, 20.0], [19.0, 30.0], [34.0, 32.0], [45.0, 37.0], [26.0, 26.0], [12.0, 16.0], [18.0, 45.0], [28.0, 18.0], [27.0, 16.0], [3.0, -1.0], [43.0, 3.0], [26.0, 44.0], [21.0, 22.0], [9.0, 12.0], [40.0, 40.0], [5.0, 1.0], [16.0, 23.0], [32.0, 45.0], [40.0, 28.0], [4.0, 3.0], [9.0, 19.0], [32.0, 11.0], [25, 18], [44.0, 6.0], [47.0, 6.0], [24.0, 39.0], [4.0, 19.0], [12.0, 2.0], [21.0, 42.0], [20.0, 15.0], [46.0, 40.0], [28, 7], [40.0, 47.0], [18.0, 48.0], [39.0, 44.0], [28.0, 46.0], [24.0, 3.0], [13.0, 33.0], [38.0, 2.0], [2.0, 47.0], [23.0, 26.0], [37.0, 35.0], [33.0, 28.0], [24.0, 23.0], [42.0, 2.0], [2.0, 35.0], [47.0, 21.0], [21.0, 45.0], [3.0, 29.0], [40.0, 7.0], [37.0, 10.0], [38.0, 5.0], [38.0, 38.0], [21.0, 20.0], [2.0, 23.0], [46.0, 3.0], [27.0, 13.0], [37, 35], [46, 40], [4.0, 13.0], [20.0, 49.0], [28.0, 36.0], [24.0, 49.0], [24.0, 13.0], [46.0, 43.0], [35.0, 38.0], [15.0, 19.0], [18.0, 20.0], [7.0, 50.0], [16.0, 29.0], [41.0, 7.0], [31.0, 32.0], [8.0, 16.0], [8.0, 31.0], [8.0, 21.0], [17.0, 3.0], [47.0, 46.0], [23.0, 19.0], [37.0, 36.0], [48.0, 1.0], [25.0, 36.0], [14.0, 40.0], [23.0, 0.0], [39.0, 13.0], [31, 38], [5.0, -2.0], [45.0, 23.0], [35.0, 40.0], [28.0, 10.0], [12.0, 3.0], [2.0, 17.0], [47.0, 10.0], [47, 46], [44.0, -0.0], [15.0, 1.0], [26.0, 15.0], [36.0, 30.0], [32.0, 3.0], [15.0, 48.0], [18.0, 43.0], [33.0, 40.0], [13.0, 30.0], [13, 33], [5.0, 23.0], [28, 18], [5.0, 34.0], [49.0, 39.0], [18.0, 0.0], [4, 26], [16.0, 6.0], [39.0, 10.0], [47.0, 35.0], [18.0, 10.0], [8.0, 24.0], [19, 30], [3.0, 41.0], [21.0, 2.0], [21, 36], [7.0, 4.0], [15.0, 2.0], [48.0, 13.0], [17.0, 16.0], [14.0, 8.0], [32.0, 48.0], [10.0, 11.0], [4, 26], [9.0, 16.0], [5.0, 34.0], [4.0, 29.0], [11.0, 4.0], [32.0, 51.0], [49.0, 40.0], [18.0, 19.0], [2.0, 1.0], [31.0, 46.0], [38.0, 5.0], [32.0, 10.0], [19.0, 6.0], [12.0, 22.0], [15.0, 22.0], [17.0, 29.0], [19.0, 30.0], [23.0, 19.0], [10.0, 40.0], [8.0, 26.0], [28.0, 7.0], [18.0, 1.0], [5.0, 2.0], [27.0, 42.0], [4.0, 16.0], [25.0, 21.0], [40.0, 50.0], [27.0, 48.0], [9.0, 6.0], [1.0, 8.0], [33, 24], [35.0, 14.0], [-1.0, 23.0], [8.0, 38.0], [20.0, 25.0], [42.0, 40.0], [26, 28], [48.0, 37.0], [19.0, 24.0], [39.0, 18.0], [44.0, 19.0], [19.0, 33.0], [46.0, 0.0], [29, 33], [21, 2], [6.0, 15.0], [26.0, 7.0], [8.0, 34.0], [31.0, 49.0], [7.0, 40.0], [35.0, 1.0], [30.0, 3.0], [-1.0, 18.0], [26.0, 25.0], [10.0, 15.0], [21.0, 48.0], [19.0, 20.0], [36.0, 34.0], [28.0, 25.0], [44.0, 27.0], [-1.0, 48.0], [46.0, 3.0], [5.0, 49.0], [6.0, 35.0], [18, 0], [9, 35], [7.0, 43.0], [44.0, 42.0], [31.0, 29.0], [4.0, 47.0], [10.0, 49.0], [25.0, 50.0], [34.0, 19.0], [25.0, 28.0], [45.0, 14.0], [3.0, 26.0], [8, 26], [25, 18], [27, 16], [42, 40], [42.0, 48.0], [18.0, 45.0], [41.0, 38.0], [49.0, 23.0], [46.0, 32.0], [46, 32], [44.0, 5.0], [42.0, 45.0], [33.0, 37.0], [10, 49], [2, 32], [10, 15], [17, 29], [47.0, 7.0], [16.0, 38.0], [18.0, 33.0], [12.0, 44.0], [1.0, 8.0], [37.0, -1.0], [26.0, 47.0], [6.0, 45.0], [40.0, 15.0], [9.0, 6.0], [42.0, 22.0], [38.0, 49.0], [28.0, 31.0], [38.0, 8.0], [19.0, 20.0], [0.0, 42.0], [36.0, 40.0], [35.0, 49.0], [42.0, 34.0], [14.0, 26.0], [15.0, 33.0], [12, 3], [22.0, 6.0], [42.0, 25.0], [3.0, 29.0], [13.0, -1.0], [1.0, 13.0], [35.0, 49.0], [-0.0, 37.0], [35.0, 20.0], [47.0, 28.0], [4.0, 50.0], [9.0, 29.0], [20, 49], [8.0, 2.0], [45.0, 46.0], [19, 18], [35.0, 3.0], [5.0, 1.0], [3.0, 13.0], [25.0, 40.0], [22.0, 25.0], [19.0, 24.0], [25.0, 45.0], [44.0, 30.0], [30.0, 5.0], [36.0, 44.0], [39.0, 48.0], [41, 38], [15.0, 30.0], [49.0, 19.0], [9.0, 6.0], [45.0, 34.0], [38.0, 23.0], [40, 4], [39.0, 22.0], [16.0, 12.0], [21.0, 14.0], [0.0, 29.0], [28, 46], [36, 22], [14.0, 31.0], [45, 46], [47.0, 24.0], [45.0, 16.0], [41.0, 20.0], [-0.0, 37.0], [5.0, 45.0], [17, 29], [22.0, 32.0], [28.0, 17.0], [41.0, 31.0], [42.0, 13.0], [9.0, 48.0], [36.0, 34.0], [9.0, 42.0], [27, 10], [13.0, 37.0], [47.0, 18.0], [14.0, 29.0], [24.0, 8.0], [43.0, 9.0], [46, 32], [32.0, 19.0], [1.0, 8.0], [38.0, 45.0], [41.0, -1.0], [29.0, 50.0], [34.0, 11.0], [-1.0, 33.0], [28.0, 49.0], [46.0, 13.0], [47.0, 49.0], [30.0, 38.0], [23.0, 23.0], [16, 6], [12.0, 6.0], [26.0, 47.0], [2.0, 8.0], [48.0, 40.0], [2.0, 48.0], [16.0, 40.0], [24.0, 0.0], [14.0, 26.0], [44.0, 31.0], [23.0, 15.0], [25.0, 28.0], [8.0, -1.0], [28, 21], [45.0, 40.0], [6.0, 14.0], [28, 18], [18, 1], [40.0, 46.0], [12.0, 2.0], [12.0, 45.0], [29.0, 37.0], [16.0, 46.0], [-0.0, 30.0], [3.0, 11.0], [46.0, 37.0], [35, 14], [27, 48], [43.0, 18.0], [1.0, 10.0], [42.0, 14.0], [19.0, 30.0], [43.0, 28.0], [2.0, 20.0], [4.0, 13.0], [38.0, 2.0], [9.0, 29.0], [44.0, 31.0], [26.0, 31.0], [42.0, -1.0], [49.0, 9.0], [26.0, 29.0], [34.0, 15.0], [47, 24], [35.0, 5.0], [9.0, 35.0], [48.0, 45.0], [39.0, 31.0], [17.0, 33.0], [43, 28], [7.0, 27.0], [8.0, 29.0], [6.0, 27.0], [17.0, 16.0], [22.0, 29.0], [2, 20], [25.0, 33.0], [42.0, 37.0], [21.0, 39.0], [12.0, 42.0], [12.0, 12.0], [14.0, 8.0], [38.0, 38.0], [44.0, 3.0], [29.0, 31.0], [9.0, 9.0], [43.0, 12.0], [13.0, 16.0], [16, 25], [-0.0, 50.0], [11.0, 27.0], [22.0, 15.0], [29.0, 48.0], [37, 46], [2.0, 38.0], [0.0, 29.0], [0, 29], [44, 31], [26.0, 19.0], [44.0, 11.0], [27.0, 34.0], [11.0, 38.0], [12.0, 14.0], [4.0, 30.0], [22.0, 3.0], [23, 19], [11.0, 34.0], [25.0, 7.0], [0.0, 34.0], [20.0, 4.0], [21.0, 32.0], [32.0, 14.0], [2.0, 45.0], [50.0, 47.0], [3.0, 24.0], [45.0, 37.0], [28.0, 4.0], [39.0, 10.0], [1.0, 5.0], [9.0, 33.0], [37.0, 49.0], [26, 19], [9.0, 42.0], [28.0, 26.0], [30.0, 8.0], [0.0, 44.0], [26.0, 36.0], [30.0, 12.0], [13.0, 12.0], [49.0, 33.0], [9.0, 19.0], [12.0, 29.0], [47.0, 32.0], [21.0, 39.0], [30.0, 15.0], [23, 49], [49.0, 30.0], [36.0, 30.0], [33.0, 3.0], [17.0, 4.0], [16.0, 24.0], [3.0, 26.0], [18.0, 40.0], [1.0, 11.0], [42.0, 22.0], [20.0, 46.0], [18, 22], [45.0, 31.0], [27.0, 6.0], [4.0, 22.0], [13.0, 49.0], [5.0, 48.0], [41.0, 17.0], [36.0, 25.0], [14.0, 11.0], [29.0, 10.0], [18.0, 27.0], [15.0, 22.0], [9.0, 19.0], [43.0, 6.0], [20.0, 40.0], [26.0, 40.0], [11.0, 21.0], [18, 0], [5.0, 2.0], [-1.0, 15.0], [39.0, 13.0], [21.0, 19.0], [50.0, 47.0], [16.0, 26.0], [45.0, 11.0], [49, 19], [47.0, 47.0], [34.0, 42.0], [14, 11], [29, 37], [1.0, 28.0], [25.0, 31.0], [12, 12], [-0.0, 37.0], [48, 37], [-1.0, 35.0], [23.0, 10.0], [7, 43], [38.0, 41.0], [21, 19], [7.0, 30.0], [39, 25], [28.0, 17.0], [17.0, 15.0], [47.0, 42.0], [6, 15], [42.0, 46.0], [47.0, 25.0], [20.0, 23.0], [8, 34], [21.0, 36.0], [41.0, 14.0], [47.0, 29.0], [9.0, 14.0], [28.0, 29.0], [47.0, 19.0], [38.0, 13.0], [48.0, 15.0], [42.0, 30.0], [28, 18], [45.0, 8.0], [34.0, 50.0], [4.0, 43.0], [31.0, 19.0], [51.0, 37.0], [29.0, 14.0], [2.0, 38.0], [37.0, 7.0], [37.0, 43.0], [24.0, 39.0], [12.0, 45.0], [7.0, 30.0], [29.0, 7.0], [50.0, 35.0], [14.0, 31.0], [36.0, 37.0], [25, 21], [3.0, 32.0], [16.0, 38.0], [23.0, 20.0], [21.0, -1.0], [32.0, 10.0], [28.0, 46.0], [30.0, 5.0], [37.0, 7.0], [39.0, 47.0], [23, 34], [44.0, 46.0], [20.0, 16.0], [0, 30], [31.0, 42.0], [40.0, 32.0], [14.0, 24.0], [47.0, 15.0], [11.0, 41.0], [18.0, 14.0], [41, 14], [15.0, 39.0], [12, 16], [33.0, 8.0], [23.0, 26.0], [20.0, 19.0], [12.0, 13.0], [7.0, 10.0], [45.0, 37.0], [16.0, 6.0], [34.0, 49.0], [17, 15], [38.0, 5.0], [22.0, 31.0], [39.0, 10.0], [42.0, 16.0], [48.0, 34.0], [13.0, 26.0], [13, 30], [5.0, 38.0], [9.0, 24.0], [14.0, 31.0], [37.0, 39.0], [29.0, 29.0], [1.0, 28.0], [0.0, 44.0], [33.0, 13.0], [21.0, 29.0], [37, 7], [7.0, 7.0], [11.0, 31.0], [33.0, 10.0], [0.0, 11.0], [46.0, 30.0], [28, 4], [26.0, 40.0], [29.0, 21.0], [19.0, 39.0], [21.0, 5.0], [12, 44], [42.0, 48.0], [46.0, 19.0], [12, 16], [37.0, 32.0], [-1.0, 15.0], [12, 16], [24.0, 8.0], [50.0, 26.0], [43.0, 21.0], [45.0, 5.0], [8.0, 26.0], [46.0, 10.0], [40.0, 36.0], [49.0, 26.0], [26.0, 15.0], [-1.0, 17.0], [16, 29], [38.0, 10.0], [31, 49], [28.0, 43.0], [31.0, 17.0], [18.0, 29.0], [20.0, 49.0], [16.0, 41.0], [18, 14], [6.0, 9.0], [41.0, 30.0], [22, 29], [30.0, 8.0], [46, 0], [45.0, 34.0], [12.0, 33.0], [15.0, 6.0], [29.0, 14.0], [11.0, 34.0], [45.0, 14.0], [7, 7], [26.0, 13.0], [0, 42], [41.0, 41.0], [8.0, 38.0], [42, 30], [17.0, 31.0], [31.0, 26.0], [18.0, 20.0], [39, 22], [51.0, 37.0], [36, 44], [7, 40], [48, 34], [9.0, 22.0], [49.0, 19.0], [-0.0, 40.0], [17.0, 37.0], [27, 16], [3.0, 37.0], [38.0, 3.0], [23.0, 25.0], [50.0, 42.0], [35.0, 14.0], [31.0, 14.0], [40, 35], [46.0, 17.0], [34.0, 43.0], [0.0, 39.0], [16.0, 46.0], [39.0, 34.0], [10.0, 8.0], [23, 15], [49.0, 4.0], [37, 43], [26.0, 10.0], [44.0, 15.0], [11.0, 28.0], [21.0, 13.0], [43.0, 25.0], [33.0, 0.0], [23.0, 43.0], [8.0, 27.0], [19, 39], [9.0, 16.0], [2, 23], [4.0, 0.0], [26, 15], [48.0, 16.0], [34, 11], [40, 43], [27.0, 46.0], [33, 22], [28.0, 49.0], [20.0, 12.0], [22, 3], [23.0, 46.0], [49.0, 0.0], [24.0, 3.0], [29.0, 4.0], [20.0, 22.0], [21.0, 48.0], [21, 20], [30.0, 37.0], [15.0, 45.0], [12.0, 45.0], [26.0, 20.0], [22.0, 5.0], [5, 48], [42.0, 45.0], [45.0, 46.0], [22, 3], [27.0, 16.0], [22.0, 27.0], [35.0, 20.0], [39, 22], [2.0, 41.0], [49, 9], [24.0, 46.0], [7, 10], [6.0, 44.0], [36, 44], [4.0, 10.0], [45.0, 1.0], [0, 39], [29, 10], [27.0, 45.0], [11, 38], [27.0, 12.0], [7, 27], [27.0, 8.0], [37.0, 29.0], [20, 46], [33.0, 29.0], [24.0, 9.0], [-1.0, 21.0], [37.0, 36.0], [46, 0], [0.0, 39.0], [41, 20], [16.0, 16.0], [21.0, 39.0], [34.0, 46.0], [15.0, 9.0], [48.0, 16.0], [16, 25], [12, 16], [45.0, 13.0], [44, 5], [34.0, 43.0], [14.0, 47.0], [9.0, 14.0], [26.0, 10.0], [46.0, 30.0], [32.0, 5.0], [4.0, 19.0], [49.0, 23.0], [22.0, 33.0], [27.0, 46.0], [4.0, 23.0], [19.0, 3.0], [5, 49], [17, 3], [16.0, 15.0], [13, 12], [4.0, 43.0], [14.0, 16.0], [42, 46], [45.0, 34.0], [17.0, 33.0], [18, 19], [33.0, 34.0], [31.0, 49.0], [44.0, 38.0], [23, 16], [8.0, 42.0], [49, 0], [34.0, 29.0], [35.0, 14.0], [7.0, 13.0], [35.0, 48.0], [14.0, 44.0], [2.0, 38.0], [16.0, 28.0], [15.0, 5.0], [46.0, 25.0], [25.0, 31.0], [44.0, 3.0], [30.0, 0.0], [8.0, 22.0], [30, 8], [36.0, 44.0], [1.0, 5.0], [4.0, 43.0], [38, 41], [15.0, 32.0], [29.0, 7.0], [49, 4], [30.0, 38.0], [31.0, 42.0], [43.0, 21.0], [4, 29], [5, 45], [43, 3], [28.0, 24.0], [5, 31], [41, 17], [14.0, 37.0], [33.0, 8.0], [37.0, 10.0], [19.0, 3.0], [48.0, 1.0], [41, 10], [42, 16], [29.0, 3.0], [1.0, 16.0], [42.0, 18.0], [2.0, 31.0], [21, 5], [35.0, 20.0], [1.0, 20.0], [21.0, 45.0], [10.0, 14.0], [39.0, 2.0], [7.0, 10.0], [24.0, 13.0], [34.0, 17.0], [48, 40], [8, 22], [9.0, 16.0], [46.0, 6.0], [45.0, 23.0], [31.0, 24.0], [29.0, 33.0], [44.0, 49.0], [44.0, 24.0], [11.0, 13.0], [39.0, 45.0], [29, 40], [24, 13], [34.0, 49.0], [33.0, 11.0], [34.0, 8.0], [9.0, 19.0], [20.0, 19.0], [44, 6], [18.0, 1.0], [11, 41], [15.0, 10.0], [15, 48], [17.0, 36.0], [23.0, 15.0], [5.0, 45.0], [42, 46], [44.0, 47.0], [41.0, 13.0], [12, 3], [38.0, -1.0], [23.0, 26.0], [26.0, 12.0], [7.0, 4.0], [45.0, 44.0], [39.0, 13.0], [16, 16], [35, 20], [7, 4], [23.0, 15.0], [36.0, 27.0], [28, 46], [13.0, 36.0], [29.0, 24.0], [15.0, 11.0], [9, 6], [43.0, 35.0], [27.0, 3.0], [12.0, 35.0], [45.0, 44.0], [18.0, 10.0], [41, 20], [28.0, 21.0], [23.0, 5.0]]\n"
          ],
          "name": "stdout"
        }
      ]
    },
    {
      "cell_type": "markdown",
      "metadata": {
        "id": "nYWbEDkwUihO",
        "colab_type": "text"
      },
      "source": [
        "# **2d Mobile Manipulator**"
      ]
    },
    {
      "cell_type": "code",
      "metadata": {
        "id": "-ltODPhCDkx8",
        "colab_type": "code",
        "outputId": "db174542-72ba-44b2-b6e8-98c72fef9029",
        "colab": {
          "base_uri": "https://localhost:8080/",
          "height": 193
        }
      },
      "source": [
        "!pip install gtsam"
      ],
      "execution_count": 0,
      "outputs": [
        {
          "output_type": "stream",
          "text": [
            "Collecting gtsam\n",
            "\u001b[?25l  Downloading https://files.pythonhosted.org/packages/c5/ef/a3be1e5c4e91839bf813399775bd73629593ec383423af4680be4205b504/gtsam-4.0.2-3-cp36-cp36m-manylinux1_x86_64.whl (7.8MB)\n",
            "\u001b[K     |████████████████████████████████| 7.8MB 4.0MB/s \n",
            "\u001b[?25hRequirement already satisfied: numpy>=1.12.0 in /usr/local/lib/python3.6/dist-packages (from gtsam) (1.18.2)\n",
            "Requirement already satisfied: Cython>=0.25.2 in /usr/local/lib/python3.6/dist-packages (from gtsam) (0.29.16)\n",
            "Collecting backports-abc>=0.5\n",
            "  Downloading https://files.pythonhosted.org/packages/7d/56/6f3ac1b816d0cd8994e83d0c4e55bc64567532f7dc543378bd87f81cebc7/backports_abc-0.5-py2.py3-none-any.whl\n",
            "Installing collected packages: backports-abc, gtsam\n",
            "Successfully installed backports-abc-0.5 gtsam-4.0.2\n"
          ],
          "name": "stdout"
        }
      ]
    },
    {
      "cell_type": "code",
      "metadata": {
        "id": "RCmKi4U8DMds",
        "colab_type": "code",
        "outputId": "e497bba8-07af-42fb-e2e3-2eb9ab4ac7d0",
        "colab": {
          "base_uri": "https://localhost:8080/",
          "height": 368
        }
      },
      "source": [
        "from mobileManipulator import FourLinkMM\n",
        "import gtsam\n",
        "import gtsam.utils.plot as gtsam_plot\n",
        "from gtsam import Pose2\n",
        "from utils import *"
      ],
      "execution_count": 0,
      "outputs": [
        {
          "output_type": "error",
          "ename": "ModuleNotFoundError",
          "evalue": "ignored",
          "traceback": [
            "\u001b[0;31m---------------------------------------------------------------------------\u001b[0m",
            "\u001b[0;31mModuleNotFoundError\u001b[0m                       Traceback (most recent call last)",
            "\u001b[0;32m<ipython-input-2-f1c75becad31>\u001b[0m in \u001b[0;36m<module>\u001b[0;34m()\u001b[0m\n\u001b[0;32m----> 1\u001b[0;31m \u001b[0;32mfrom\u001b[0m \u001b[0mmobileManipulator\u001b[0m \u001b[0;32mimport\u001b[0m \u001b[0mFourLinkMM\u001b[0m\u001b[0;34m\u001b[0m\u001b[0;34m\u001b[0m\u001b[0m\n\u001b[0m\u001b[1;32m      2\u001b[0m \u001b[0;32mimport\u001b[0m \u001b[0mgtsam\u001b[0m\u001b[0;34m\u001b[0m\u001b[0;34m\u001b[0m\u001b[0m\n\u001b[1;32m      3\u001b[0m \u001b[0;32mimport\u001b[0m \u001b[0mgtsam\u001b[0m\u001b[0;34m.\u001b[0m\u001b[0mutils\u001b[0m\u001b[0;34m.\u001b[0m\u001b[0mplot\u001b[0m \u001b[0;32mas\u001b[0m \u001b[0mgtsam_plot\u001b[0m\u001b[0;34m\u001b[0m\u001b[0;34m\u001b[0m\u001b[0m\n\u001b[1;32m      4\u001b[0m \u001b[0;32mfrom\u001b[0m \u001b[0mgtsam\u001b[0m \u001b[0;32mimport\u001b[0m \u001b[0mPose2\u001b[0m\u001b[0;34m\u001b[0m\u001b[0;34m\u001b[0m\u001b[0m\n\u001b[1;32m      5\u001b[0m \u001b[0;32mfrom\u001b[0m \u001b[0mutils\u001b[0m \u001b[0;32mimport\u001b[0m \u001b[0;34m*\u001b[0m\u001b[0;34m\u001b[0m\u001b[0;34m\u001b[0m\u001b[0m\n",
            "\u001b[0;31mModuleNotFoundError\u001b[0m: No module named 'mobileManipulator'",
            "",
            "\u001b[0;31m---------------------------------------------------------------------------\u001b[0;32m\nNOTE: If your import is failing due to a missing package, you can\nmanually install dependencies using either !pip or !apt.\n\nTo view examples of installing some common dependencies, click the\n\"Open Examples\" button below.\n\u001b[0;31m---------------------------------------------------------------------------\u001b[0m\n"
          ]
        }
      ]
    },
    {
      "cell_type": "code",
      "metadata": {
        "id": "Ouk_NFDDTL0Z",
        "colab_type": "code",
        "colab": {}
      },
      "source": [
        "def RandomQ():\n",
        "  pi = 3.14\n",
        "  #Each t[i] ranges from -180 to 180\n",
        "  t1 = np.random.randn()*360-180\n",
        "  t2 = np.random.randn()*360-180\n",
        "  t3 = np.random.randn()*360-180\n",
        "  t4 = np.random.randn()*360-180\n",
        "  return [t1,t2,t3,t4]"
      ],
      "execution_count": 0,
      "outputs": []
    },
    {
      "cell_type": "code",
      "metadata": {
        "id": "uaf-w2z_K-N2",
        "colab_type": "code",
        "colab": {}
      },
      "source": [
        "class Node_manip():\n",
        "  def __init__(self, idx, Q, dictionary, G):\n",
        "    self.idx = idx\n",
        "    self.t1 = Q[0]\n",
        "    self.t2 = Q[1]\n",
        "    self.t3 = Q[2]\n",
        "    self.t4 = Q[3]\n",
        "    self.neighbors = []\n",
        "    self.parent = None\n",
        "    dictionary[idx] = Q\n",
        "    G.add_node(idx)"
      ],
      "execution_count": 0,
      "outputs": []
    },
    {
      "cell_type": "code",
      "metadata": {
        "id": "zF8W2uq7L7p_",
        "colab_type": "code",
        "colab": {}
      },
      "source": [
        "class Tree_manip():\n",
        "  def __init__(self, curr_iter, curr_node):\n",
        "    self.root = curr_node\n",
        "\n",
        "  def find_dist(self, q0, q1):\n",
        "    val1 = q0.t1-q1[0]\n",
        "    val2 = q0.t2-q1[1]\n",
        "    val3 = q0.t3-q1[2]\n",
        "    val4 = q0.t4-q1[3]\n",
        "    dist_val = np.sqrt(np.square(val1)+np.square(val2)+np.square(val3)+np.square(val4))\n",
        "    return dist_val\n",
        "\n",
        "  def iterate(self, q, qc):\n",
        "    if q.neighbors == []: #no neighbors\n",
        "      return 10000, q\n",
        "    \n",
        "    m1 = 1000000\n",
        "    e1 = None\n",
        "\n",
        "    for i in range(len(q.neighbors)):\n",
        "      new_dist = self.find_dist(q.neighbors[i], qc)\n",
        "\n",
        "      if new_dist < m1:\n",
        "        e1 = q.neighbors[i]\n",
        "        m1 = new_dist\n",
        "\n",
        "      #explore neighbor \n",
        "      m2, e2 = self.iterate(e1, qc)\n",
        "      if m2 < m1:\n",
        "        m1 = m2 \n",
        "        e1 = e2\n",
        "\n",
        "    return m1, e1\n",
        "\n",
        "  def steer(self, Q_curr, Q_new, step_size):\n",
        "    q1 = np.asarray(Q_curr)\n",
        "    q2 = np.asarray(Q_new) #go in direction of q2\n",
        "    q_sub = np.subtract(q2,q1)\n",
        "    q_dir = q_sub/np.linalg.norm(q_sub)\n",
        "    q_dir *= step_size\n",
        "\n",
        "    q_new = q1+q_dir\n",
        "    q_steer = [q_new[0], q_new[1], q_new[2], q_new[3]]\n",
        "    return q_steer\n",
        "\n",
        "  def link(self, q1, q2, G):\n",
        "    if q2 not in q1.neighbors:\n",
        "      q1.neighbors.append(q2)\n",
        "      q2.parent = q1\n",
        "      G.add_edge(q1.idx, q2.idx)\n",
        "    return\n",
        "\n",
        "  def find_closest(self, Q_curr):\n",
        "    min_dist, explore = self.iterate(self.root, Q_curr)\n",
        "    return explore"
      ],
      "execution_count": 0,
      "outputs": []
    },
    {
      "cell_type": "code",
      "metadata": {
        "id": "NLSPqyyZXC7L",
        "colab_type": "code",
        "colab": {}
      },
      "source": [
        "arm = FourLinkMM()\n",
        "obstacles = [Polygon([(2,2), (4,5), (3,8)]), Polygon([(-10,6), (5,-1), (0,6)])]"
      ],
      "execution_count": 0,
      "outputs": []
    },
    {
      "cell_type": "code",
      "metadata": {
        "id": "ttBCu64wPcpW",
        "colab_type": "code",
        "colab": {}
      },
      "source": [
        "num_iters = 1000\n",
        "step_size = 3\n",
        "\n",
        "dictionary = {}\n",
        "Qstart = [0,0,0,0]\n",
        "Qgoal = [0,25,30,12]\n",
        "curr_iter = 1\n",
        "G = nx.Graph()\n",
        "\n",
        "root = Node_manip(0, Qstart, dictionary, G)\n",
        "graph = Tree_manip(0, root)\n",
        "\n",
        "till_now = [Qstart]\n",
        "curr_node = root\n",
        "\n",
        "while curr_iter < num_iters:\n",
        "  pos = RandomQ()\n",
        "  #print('NEW ITERATION')\n",
        "  \n",
        "  q = np.radians(vector4(pos[0], pos[1], pos[2], pos[3]))\n",
        "  sTt = arm.fwd_kinematics(q)\n",
        "  c0 = [curr_node.t1, curr_node.t2, curr_node.t3, curr_node.t4]\n",
        "  if arm.check_collision_with_obstacles(obstacles, sTt, c0) == True: #colliding with obstacle\n",
        "    continue\n",
        "\n",
        "  nearest_node =graph.find_closest(pos)\n",
        "  c1 = [nearest_node.t1, nearest_node.t2, nearest_node.t3, nearest_node.t4]\n",
        "\n",
        "  steer_node = graph.steer(c1, pos, step_size)\n",
        "\n",
        "  add_node = Node_manip(curr_iter, steer_node, dictionary, G)\n",
        "  graph.link(nearest_node, add_node, G)\n",
        "\n",
        "  curr_node = add_node\n",
        "  curr_iter += 1\n",
        "\n",
        "  #print(till_now)\n",
        "  till_now.append(steer_node)\n",
        "  add = [add_node.t1, add_node.t2, add_node.t3, add_node.t4]\n",
        "  if add == Qgoal:\n",
        "    break"
      ],
      "execution_count": 0,
      "outputs": []
    },
    {
      "cell_type": "code",
      "metadata": {
        "id": "GNJhr5C5Jlhz",
        "colab_type": "code",
        "outputId": "25c47b67-6ca8-4c46-cc47-8dfdb251fdeb",
        "colab": {
          "base_uri": "https://localhost:8080/",
          "height": 72
        }
      },
      "source": [
        "v_path = nx.algorithms.shortest_path(G, root.idx, add_node.idx)\n",
        "print('Vertices for shortest path:',v_path)\n",
        "\n",
        "path = []\n",
        "for p in v_path:\n",
        "  path.append(dictionary[p])\n",
        "print('Actual path:',path)"
      ],
      "execution_count": 0,
      "outputs": [
        {
          "output_type": "stream",
          "text": [
            "Vertices for shortest path: [0, 1, 2, 3, 4, 5, 7, 9]\n",
            "Actual path: [[0, 0, 0, 0], [-0.20102779109990843, -1.4682793081412537, -0.6142775023190674, -2.5350358677214766], [-2.085960996199267, -1.1114922003494154, -2.916382372863276, -2.393462787497774], [-2.928574437947006, -2.8555685753460844, -5.098210899230057, -1.695018467958509], [-5.281234942702771, -3.4016519292539007, -5.227643561891108, -3.469850489808353], [-7.473736062410531, -3.4264018496680673, -5.633202151403339, -5.476800542000127], [-7.788151976878475, -6.124444414100435, -5.590030904075615, -6.749531934181787], [-10.649461315743887, -6.7430915688235515, -5.739679535504574, -7.388116190475362]]\n"
          ],
          "name": "stdout"
        }
      ]
    },
    {
      "cell_type": "code",
      "metadata": {
        "id": "Y0dawhICQ7t6",
        "colab_type": "code",
        "outputId": "0b4497b5-173e-4de3-950c-716f10e35d8e",
        "colab": {
          "base_uri": "https://localhost:8080/",
          "height": 237
        }
      },
      "source": [
        "###-------NOT CORRECT---------\n",
        "curr_node = add_node\n",
        "curr = [curr_node.t1, curr_node.t2, curr_node.t3, curr_node.t4]\n",
        "\n",
        "path = []\n",
        "while curr != Qstart:\n",
        "  path.append(curr)\n",
        "  ptr = curr.parent\n",
        "  curr = [ptr.t1, ptr.t2, ptr.t3, ptr.t4]\n",
        "  curr_node = ptr\n",
        "\n",
        "path.append(Qstart)\n",
        "print('Path is:')\n",
        "print(path[::-1])"
      ],
      "execution_count": 0,
      "outputs": [
        {
          "output_type": "error",
          "ename": "AttributeError",
          "evalue": "ignored",
          "traceback": [
            "\u001b[0;31m---------------------------------------------------------------------------\u001b[0m",
            "\u001b[0;31mAttributeError\u001b[0m                            Traceback (most recent call last)",
            "\u001b[0;32m<ipython-input-109-193d5ebaed2c>\u001b[0m in \u001b[0;36m<module>\u001b[0;34m()\u001b[0m\n\u001b[1;32m      1\u001b[0m \u001b[0mcurr_node\u001b[0m \u001b[0;34m=\u001b[0m \u001b[0madd_node\u001b[0m\u001b[0;34m\u001b[0m\u001b[0;34m\u001b[0m\u001b[0m\n\u001b[0;32m----> 2\u001b[0;31m \u001b[0mcurr\u001b[0m \u001b[0;34m=\u001b[0m \u001b[0;34m[\u001b[0m\u001b[0mcurr_node\u001b[0m\u001b[0;34m.\u001b[0m\u001b[0mt1\u001b[0m\u001b[0;34m,\u001b[0m \u001b[0mcurr_node\u001b[0m\u001b[0;34m.\u001b[0m\u001b[0mt2\u001b[0m\u001b[0;34m,\u001b[0m \u001b[0mcurr_node\u001b[0m\u001b[0;34m.\u001b[0m\u001b[0mt3\u001b[0m\u001b[0;34m,\u001b[0m \u001b[0mcurr_node\u001b[0m\u001b[0;34m.\u001b[0m\u001b[0mt4\u001b[0m\u001b[0;34m]\u001b[0m\u001b[0;34m\u001b[0m\u001b[0;34m\u001b[0m\u001b[0m\n\u001b[0m\u001b[1;32m      3\u001b[0m \u001b[0;34m\u001b[0m\u001b[0m\n\u001b[1;32m      4\u001b[0m \u001b[0mpath\u001b[0m \u001b[0;34m=\u001b[0m \u001b[0;34m[\u001b[0m\u001b[0;34m]\u001b[0m\u001b[0;34m\u001b[0m\u001b[0;34m\u001b[0m\u001b[0m\n\u001b[1;32m      5\u001b[0m \u001b[0;32mwhile\u001b[0m \u001b[0mcurr\u001b[0m \u001b[0;34m!=\u001b[0m \u001b[0mQstart\u001b[0m\u001b[0;34m:\u001b[0m\u001b[0;34m\u001b[0m\u001b[0;34m\u001b[0m\u001b[0m\n",
            "\u001b[0;31mAttributeError\u001b[0m: 'Node' object has no attribute 't1'"
          ]
        }
      ]
    },
    {
      "cell_type": "code",
      "metadata": {
        "id": "t0ymAsF6wkS3",
        "colab_type": "code",
        "colab": {}
      },
      "source": [
        ""
      ],
      "execution_count": 0,
      "outputs": []
    }
  ]
}