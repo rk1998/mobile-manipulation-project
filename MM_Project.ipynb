{
 "cells": [
  {
   "cell_type": "code",
   "execution_count": 1,
   "metadata": {
    "colab": {},
    "colab_type": "code",
    "id": "8eiS09mervQf"
   },
   "outputs": [],
   "source": [
    "import numpy as np\n",
    "import sklearn\n",
    "import networkx as nx\n",
    "from matplotlib import pyplot as plt\n",
    "from shapely.geometry import Polygon\n",
    "import sys\n",
    "sys.setrecursionlimit(10**6) \n",
    "\n",
    "np.random.seed(42)"
   ]
  },
  {
   "cell_type": "markdown",
   "metadata": {
    "colab_type": "text",
    "id": "7MP3IcDorFt4"
   },
   "source": [
    "# **(X,Y) configuration space:**"
   ]
  },
  {
   "cell_type": "code",
   "execution_count": 0,
   "metadata": {
    "colab": {},
    "colab_type": "code",
    "id": "FwNK-4c0weNM"
   },
   "outputs": [],
   "source": [
    "def RandomPosition(max_x, max_y):\n",
    "  xc = np.random.randint(max_x)\n",
    "  yc = np.random.randint(max_y)\n",
    "  return [xc,yc]"
   ]
  },
  {
   "cell_type": "code",
   "execution_count": 0,
   "metadata": {
    "colab": {
     "base_uri": "https://localhost:8080/",
     "height": 267
    },
    "colab_type": "code",
    "id": "Dvj7eP6fvxfM",
    "outputId": "c114e6e9-b5f8-42ba-e829-8730ab0d9a50"
   },
   "outputs": [
    {
     "data": {
      "image/png": "[encoded data removed]",
      "text/plain": [
       "<Figure size 432x288 with 1 Axes>"
      ]
     },
     "metadata": {
      "needs_background": "light",
      "tags": []
     },
     "output_type": "display_data"
    }
   ],
   "source": [
    "###------ENVIRONMENT-------------\n",
    "max_x = 50\n",
    "max_y = 50\n",
    "\n",
    "c_map = np.zeros((max_x, max_y))\n",
    "no_obstacles = 5\n",
    "o_size = 4\n",
    "\n",
    "obstacles = []\n",
    "i = 0\n",
    "while i < no_obstacles:\n",
    "  ob_pos = RandomPosition(max_x, max_y)\n",
    "  if ob_pos[0] < o_size/2 and ob_pos[0] > max_x-o_size/2 and ob_pos[1] < o_size/2 and ob_pos[1] > max_y-o_size/2:\n",
    "    continue\n",
    "  x1 = int(ob_pos[0]-o_size/2)\n",
    "  x2 = int(ob_pos[0]+o_size/2)\n",
    "  y1 = int(ob_pos[1]-o_size/2)\n",
    "  y2 = int(ob_pos[1]+o_size/2)\n",
    "  #print(x1, x2, y1, y2, ob_pos)\n",
    "  c_map[x1:x2, y1:y2] = np.ones((o_size, o_size))\n",
    "  obstacles.append(ob_pos)\n",
    "  i += 1\n",
    "\n",
    "Qstart = [0,0]\n",
    "Qgoal = [25, 6]\n",
    "step_size = 3\n",
    "\n",
    "plt.imshow(c_map, interpolation='nearest')\n",
    "plt.show()"
   ]
  },
  {
   "cell_type": "code",
   "execution_count": 0,
   "metadata": {
    "colab": {},
    "colab_type": "code",
    "id": "VHrElni52f87"
   },
   "outputs": [],
   "source": [
    "class Node():\n",
    "  def __init__(self, idx, Q, dictionary, G):\n",
    "    self.idx = idx\n",
    "    self.xpos = Q[0]\n",
    "    self.ypos = Q[1]\n",
    "    self.neighbors = []\n",
    "    self.parent = None\n",
    "    dictionary[idx] = (Q[0], Q[1])\n",
    "    G.add_node(idx)"
   ]
  },
  {
   "cell_type": "code",
   "execution_count": 0,
   "metadata": {
    "colab": {},
    "colab_type": "code",
    "id": "j2jpLwgUduzG"
   },
   "outputs": [],
   "source": [
    "class Tree():\n",
    "  def __init__(self, curr_iter, curr_node):\n",
    "    self.root = curr_node\n",
    "\n",
    "  def find_dist(self, q0, q1):\n",
    "    xval = q0.xpos-q1[0]\n",
    "    yval = q0.ypos-q1[1]\n",
    "    dist_val = np.sqrt(np.square(xval)+np.square(yval))\n",
    "    return dist_val\n",
    "\n",
    "  def iterate(self, q, qc, visited):\n",
    "    if q.neighbors == []:\n",
    "      return 10000, q\n",
    "    \n",
    "    #print('checking',[q.xpos, q.ypos],'for',qc)\n",
    "    m1 = 1000000\n",
    "    e1 = None\n",
    "\n",
    "    for i in range(len(q.neighbors)):\n",
    "      new_dist = self.find_dist(q.neighbors[i], qc)\n",
    "\n",
    "      if new_dist < m1:\n",
    "        e1 = q.neighbors[i]\n",
    "        m1 = new_dist\n",
    "\n",
    "      #explore neighbor \n",
    "      if q.neighbors[i] not in visited:\n",
    "        m2, e2 = self.iterate(q.neighbors[i], qc, visited)\n",
    "        visited.append(q.neighbors[i])\n",
    "\n",
    "      if m2 < m1:\n",
    "        m1 = m2 \n",
    "        e1 = e2\n",
    "\n",
    "    return m1, e1\n",
    "\n",
    "  def steer(self, Q_curr, Q_new, step_size):\n",
    "    q1 = np.asarray(Q_curr)\n",
    "    q2 = np.asarray(Q_new)\n",
    "\n",
    "    if q1[0] == q2[0] and q1[1] == q2[1]:\n",
    "      return q2\n",
    "\n",
    "    qsub = np.subtract(q2,q1)\n",
    "    q_dir = qsub/np.linalg.norm(qsub)\n",
    "\n",
    "    q_change = q_dir * step_size\n",
    "\n",
    "    q_new = q_change + q1\n",
    "\n",
    "    q_steer = [round(q_new[0]), round(q_new[1])]\n",
    "    #print(q1, q_change, q_new, q_steer)\n",
    "\n",
    "    return q_steer\n",
    "\n",
    "  def link(self, q1, q2, G):\n",
    "    if q2 not in q1.neighbors:\n",
    "      q1.neighbors.append(q2)\n",
    "      q2.parent = q1\n",
    "      G.add_edge(q1.idx, q2.idx)\n",
    "    return\n",
    "\n",
    "  def find_closest(self, Q_curr):\n",
    "    min_dist, explore = self.iterate(self.root, Q_curr, [])\n",
    "    return explore"
   ]
  },
  {
   "cell_type": "markdown",
   "metadata": {
    "colab_type": "text",
    "id": "54L6Mv3QrMgR"
   },
   "source": [
    "# **RRT**"
   ]
  },
  {
   "cell_type": "code",
   "execution_count": 0,
   "metadata": {
    "colab": {
     "base_uri": "https://localhost:8080/",
     "height": 34
    },
    "colab_type": "code",
    "id": "PAgCkO3StvQC",
    "outputId": "0935387a-122c-485a-d738-e37efc4bb3bc"
   },
   "outputs": [
    {
     "name": "stdout",
     "output_type": "stream",
     "text": [
      "reached goal [25.0, 6.0]\n"
     ]
    }
   ],
   "source": [
    "num_iters = 1000\n",
    "\n",
    "step_size = 3\n",
    "curr_iter = 1\n",
    "dictionary = {}\n",
    "\n",
    "G = nx.Graph()\n",
    "root = Node(0, Qstart, dictionary, G)\n",
    "graph = Tree(0, root)\n",
    "\n",
    "till_now = [Qstart]\n",
    "curr_node = root\n",
    "\n",
    "while curr_iter < num_iters:\n",
    "  pos = RandomPosition(max_x, max_y)\n",
    "  #print('NEW ITERATION')\n",
    "  \n",
    "  if c_map[pos[0], pos[1]] == 1: #colliding with obstacle\n",
    "    #print('COLLISION')\n",
    "    continue\n",
    "\n",
    "  nearest_node =graph.find_closest(pos)\n",
    "  c2 = [nearest_node.xpos, nearest_node.ypos]\n",
    "\n",
    "  steer_node = graph.steer(c2, pos, step_size)\n",
    "\n",
    "  add_node = Node(curr_iter, steer_node, dictionary, G)\n",
    "  graph.link(nearest_node, add_node, G)\n",
    "  #print('connection between', nearest_node.idx, add_node.idx)\n",
    "  #print('moving from', [curr_node.xpos, curr_node.ypos], [add_node.xpos, add_node.ypos])\n",
    "\n",
    "  curr_node = add_node\n",
    "  curr_iter += 1\n",
    "\n",
    "  till_now.append(steer_node)\n",
    "  add = [add_node.xpos, add_node.ypos]\n",
    "\n",
    "  #print(add, Qgoal)\n",
    "  if add == Qgoal:\n",
    "    print('reached goal', add)\n",
    "    break\n"
   ]
  },
  {
   "cell_type": "code",
   "execution_count": 0,
   "metadata": {
    "colab": {
     "base_uri": "https://localhost:8080/",
     "height": 72
    },
    "colab_type": "code",
    "id": "6CDW06kIFmsx",
    "outputId": "02653aba-e3c3-4463-bf47-b0c79ef71e94"
   },
   "outputs": [
    {
     "name": "stdout",
     "output_type": "stream",
     "text": [
      "Vertices for shortest path: [0, 1, 2, 3, 4, 5, 6, 7, 9, 10, 13, 22, 23, 25, 445]\n",
      "Actual path: [(0, 0), (1.0, 3.0), (3.0, 5.0), (6.0, 7.0), (9.0, 8.0), (9.0, 11.0), (9.0, 14.0), (12.0, 15.0), (15.0, 15.0), (18.0, 14.0), (19.0, 11.0), (21.0, 9.0), (24.0, 8.0), (27.0, 8.0), (25.0, 6.0)]\n"
     ]
    }
   ],
   "source": [
    "v_path = nx.algorithms.shortest_path(G, root.idx, add_node.idx)\n",
    "print('Vertices for shortest path:',v_path)\n",
    "\n",
    "path = []\n",
    "for p in v_path:\n",
    "  path.append(dictionary[p])\n",
    "print('Actual path:',path)"
   ]
  },
  {
   "cell_type": "markdown",
   "metadata": {
    "colab_type": "text",
    "id": "nYWbEDkwUihO"
   },
   "source": [
    "# **2d Mobile Manipulator**"
   ]
  },
  {
   "cell_type": "code",
   "execution_count": 58,
   "metadata": {
    "colab": {
     "base_uri": "https://localhost:8080/",
     "height": 106
    },
    "colab_type": "code",
    "id": "-ltODPhCDkx8",
    "outputId": "c3f61a8f-f0f0-44c6-9ffc-a520ceedb7ae"
   },
   "outputs": [
    {
     "name": "stdout",
     "output_type": "stream",
     "text": [
      "Requirement already satisfied: gtsam in /usr/local/lib/python3.6/dist-packages (4.0.2)\n",
      "Requirement already satisfied: Cython>=0.25.2 in /usr/local/lib/python3.6/dist-packages (from gtsam) (0.29.16)\n",
      "Requirement already satisfied: numpy>=1.12.0 in /usr/local/lib/python3.6/dist-packages (from gtsam) (1.18.2)\n",
      "Requirement already satisfied: backports-abc>=0.5 in /usr/local/lib/python3.6/dist-packages (from gtsam) (0.5)\n"
     ]
    }
   ],
   "source": [
    "!pip install gtsam"
   ]
  },
  {
   "cell_type": "code",
   "execution_count": 2,
   "metadata": {
    "colab": {},
    "colab_type": "code",
    "id": "RCmKi4U8DMds"
   },
   "outputs": [],
   "source": [
    "from mobileManipulator import FourLinkMM\n",
    "import gtsam\n",
    "import gtsam.utils.plot as gtsam_plot\n",
    "from gtsam import Pose2\n",
    "from utils import *"
   ]
  },
  {
   "cell_type": "code",
   "execution_count": 33,
   "metadata": {
    "colab": {},
    "colab_type": "code",
    "id": "Ouk_NFDDTL0Z"
   },
   "outputs": [],
   "source": [
    "def RandomQ(Qgoal, arm, obstacles):\n",
    "    pi = 3.14\n",
    "    t1 = 0\n",
    "    t2 = 0\n",
    "    t3 = 0\n",
    "    t4 = 0\n",
    "    if np.random.randn() <= 0.15: #15% probability that it returns Qgoal\n",
    "        print('HIT GOAL')\n",
    "        return Qgoal\n",
    "    collision = True\n",
    "    while collision:      \n",
    "        #Each t[i] ranges from -180 to 180\n",
    "        t1 = np.random.randn()*360-180\n",
    "        t2 = np.random.randn()*360-180\n",
    "        t3 = np.random.randn()*360-180\n",
    "        t4 = np.random.randn()*360-180\n",
    "        q = np.radians(vector4(t1, t2, t3, t4))\n",
    "        sTt_ee = arm.fwd_kinematics(q)\n",
    "        sTt_b, qdash = arm.ik2(sTt_ee, obstacles)\n",
    "        collision = arm.check_collision_with_obstacles(obstacles, sTt_b, q) #colliding with obstacle\n",
    "           \n",
    "        \n",
    "    return [t1,t2,t3,t4]"
   ]
  },
  {
   "cell_type": "code",
   "execution_count": 34,
   "metadata": {
    "colab": {},
    "colab_type": "code",
    "id": "uaf-w2z_K-N2"
   },
   "outputs": [],
   "source": [
    "class Node_manip():\n",
    "    def __init__(self, idx, Q, dictionary, G):\n",
    "        self.idx = idx\n",
    "        self.t1 = Q[0]\n",
    "        self.t2 = Q[1]\n",
    "        self.t3 = Q[2]\n",
    "        self.t4 = Q[3]\n",
    "        self.neighbors = []\n",
    "        self.parent = None\n",
    "        dictionary[idx] = Q\n",
    "        G.add_node(idx)"
   ]
  },
  {
   "cell_type": "code",
   "execution_count": 39,
   "metadata": {
    "colab": {},
    "colab_type": "code",
    "id": "zF8W2uq7L7p_"
   },
   "outputs": [],
   "source": [
    "class Tree_manip():\n",
    "    def __init__(self, curr_iter, curr_node):\n",
    "        self.root = curr_node\n",
    "\n",
    "    def find_dist(self, q0, q1):\n",
    "        val1 = q0.t1-q1[0]\n",
    "        val2 = q0.t2-q1[1]\n",
    "        val3 = q0.t3-q1[2]\n",
    "        val4 = q0.t4-q1[3]\n",
    "        dist_val = np.sqrt(np.square(val1)+np.square(val2)+np.square(val3)+np.square(val4))\n",
    "        return dist_val\n",
    "\n",
    "    def iterate(self, q, qc):\n",
    "        \n",
    "        if q.neighbors == []: #no neighbors\n",
    "            return 10000, q\n",
    "\n",
    "        m1 = 1000000\n",
    "        e1 = None\n",
    "\n",
    "        for i in range(len(q.neighbors)):\n",
    "            new_dist = self.find_dist(q.neighbors[i], qc)\n",
    "\n",
    "            if new_dist < m1:\n",
    "                e1 = q.neighbors[i]\n",
    "                m1 = new_dist\n",
    "\n",
    "            #explore neighbor \n",
    "            m2, e2 = self.iterate(e1, qc)\n",
    "            if m2 < m1:\n",
    "                m1 = m2 \n",
    "                e1 = e2\n",
    "\n",
    "        return m1, e1\n",
    "\n",
    "    def steer(self, Q_curr, Q_new, step_size, distance_limit=3):\n",
    "        q1 = np.asarray(Q_curr)\n",
    "        q2 = np.asarray(Q_new) #go in direction of q2\n",
    "        if np.linalg.norm(q2 - q1) < distance_limit:\n",
    "            return q2\n",
    "        q_sub = np.subtract(q2,q1)\n",
    "        q_dir = q_sub/np.linalg.norm(q_sub)\n",
    "        q_dir *= step_size\n",
    "\n",
    "        q_new = q1+q_dir\n",
    "        q_steer = [q_new[0], q_new[1], q_new[2], q_new[3]]\n",
    "        return q_steer\n",
    "\n",
    "    def link(self, q1, q2, G):\n",
    "        if q2 not in q1.neighbors:\n",
    "            q1.neighbors.append(q2)\n",
    "            q2.parent = q1\n",
    "            G.add_edge(q1.idx, q2.idx)\n",
    "            return\n",
    "\n",
    "    def find_closest(self, Q_curr):\n",
    "        min_dist, explore = self.iterate(self.root, Q_curr)\n",
    "        return explore"
   ]
  },
  {
   "cell_type": "code",
   "execution_count": 40,
   "metadata": {
    "colab": {},
    "colab_type": "code",
    "id": "NLSPqyyZXC7L"
   },
   "outputs": [
    {
     "data": {
      "image/png": "[encoded data removed]",
      "text/plain": [
       "<Figure size 432x288 with 1 Axes>"
      ]
     },
     "metadata": {
      "needs_background": "light"
     },
     "output_type": "display_data"
    }
   ],
   "source": [
    "arm = FourLinkMM()\n",
    "obstacles = [Polygon([(3,4), (3, 5), (4, 5), (4,4)])]\n",
    "base, link_1, link_2, link_3, link_4 = arm.create_manipulator_model(Pose2(0, 0, 0), np.radians(vector4(0, 25, 30, 12)))\n",
    "plt.figure()\n",
    "plt.plot(*obstacles[0].exterior.xy)\n",
    "plt.plot(*base.exterior.xy)\n",
    "plt.plot(*link_1.exterior.xy)\n",
    "plt.plot(*link_2.exterior.xy)\n",
    "plt.plot(*link_3.exterior.xy)\n",
    "plt.plot(*link_4.exterior.xy)\n",
    "plt.show()"
   ]
  },
  {
   "cell_type": "code",
   "execution_count": 41,
   "metadata": {
    "colab": {
     "base_uri": "https://localhost:8080/",
     "height": 680
    },
    "colab_type": "code",
    "id": "ttBCu64wPcpW",
    "outputId": "0d5c49a8-3e9e-4fed-f78c-1e611b3203bc"
   },
   "outputs": [
    {
     "name": "stdout",
     "output_type": "stream",
     "text": [
      "ITERATION: 0\n",
      "HIT GOAL\n",
      "HIT GOAL\n",
      "HIT GOAL\n",
      "HIT GOAL\n",
      "HIT GOAL\n",
      "HIT GOAL\n",
      "HIT GOAL\n",
      "HIT GOAL\n",
      "HIT GOAL\n",
      "HIT GOAL\n",
      "HIT GOAL\n",
      "HIT GOAL\n",
      "HIT GOAL\n",
      "reached goal\n"
     ]
    }
   ],
   "source": [
    "num_iters = 1000\n",
    "step_size = 3\n",
    "\n",
    "dictionary = {}\n",
    "Qstart = [0,0,0,0]\n",
    "Qgoal = [0,25,30,12]\n",
    "curr_iter = 0\n",
    "G = nx.Graph()\n",
    "lim = 0.5 #The robot can stop at a configuration (q1,q2,q3,q4) where q[i] is at most 15 degrees away from Qgoal[i]\n",
    "\n",
    "root = Node_manip(0, Qstart, dictionary, G)\n",
    "graph = Tree_manip(0, root)\n",
    "\n",
    "till_now = [Qstart]\n",
    "curr_node = root\n",
    "\n",
    "while curr_iter < num_iters:\n",
    "    \n",
    "    if curr_iter % 100 == 0:\n",
    "        print(\"ITERATION: \" + str(curr_iter))\n",
    "    pos = RandomQ(Qgoal, arm, obstacles)\n",
    "    #print('NEW ITERATION')\n",
    "\n",
    "#     q = np.radians(vector4(pos[0], pos[1], pos[2], pos[3]))\n",
    "    c0 = [curr_node.t1, curr_node.t2, curr_node.t3, curr_node.t4]\n",
    "\n",
    "#     sTt_ee = arm.fwd_kinematics(q)\n",
    "#     sTt_b, qdash = arm.ik2(sTt_ee)\n",
    "\n",
    "#     if arm.check_collision_with_obstacles(obstacles, sTt_b, q) == True: #colliding with obstacle\n",
    "#         print('collide')\n",
    "#         continue\n",
    "\n",
    "    nearest_node = graph.find_closest(pos)\n",
    "    c1 = [nearest_node.t1, nearest_node.t2, nearest_node.t3, nearest_node.t4]\n",
    "\n",
    "    steer_node = graph.steer(c1, pos, step_size)\n",
    "\n",
    "    add_node = Node_manip(curr_iter, steer_node, dictionary, G)\n",
    "    graph.link(nearest_node, add_node, G)\n",
    "\n",
    "    curr_node = add_node\n",
    "    curr_iter += 1\n",
    "\n",
    "    #print(till_now)\n",
    "    till_now.append(steer_node)\n",
    "    add = [add_node.t1, add_node.t2, add_node.t3, add_node.t4]\n",
    "    #print('add',add,Qgoal)\n",
    "    if abs(add[0] -Qgoal[0]) <= lim and abs(add[1]-Qgoal[1]) <= lim and abs(add[2]-Qgoal[2]) <= lim and abs(add[3]-Qgoal[3]) <= lim:\n",
    "        print('reached goal')\n",
    "        break"
   ]
  },
  {
   "cell_type": "code",
   "execution_count": 42,
   "metadata": {
    "colab": {
     "base_uri": "https://localhost:8080/",
     "height": 72
    },
    "colab_type": "code",
    "id": "GNJhr5C5Jlhz",
    "outputId": "2339ff98-4892-4ac2-ea5d-47d3235ad533"
   },
   "outputs": [
    {
     "name": "stdout",
     "output_type": "stream",
     "text": [
      "Vertices for shortest path: [0, 2, 3, 6, 7, 8, 10, 11, 12, 18, 19, 22, 23, 24, 25, 26]\n",
      "Actual path: [[0.0, 1.8358326736802424, 2.202999208416291, 0.8811996833665164], [0.0, 3.6716653473604848, 4.405998416832582, 1.7623993667330329], [-1.683150796608527, 5.939382444584446, 5.3355134919506, 1.3618194271921795], [-1.530042009860768, 7.673242556496611, 7.579132787745776, 2.329527682440694], [-3.578655784631, 7.656122685488737, 8.633042075874336, 4.251028066056239], [-3.2060521218022986, 9.461938221811648, 10.857734045475675, 5.057838080627664], [-2.833448458973597, 11.267753758134559, 13.082426015077015, 5.8646480951990885], [-3.3566641015309724, 10.190052040296386, 15.242081067870084, 4.16150557277259], [-2.9106873491775738, 12.15774743483377, 17.20286372522449, 5.202952134673337], [-2.464710596824175, 14.125442829371153, 19.163646382578893, 6.244398696574085], [-2.018733844470777, 16.093138223908536, 21.124429039933297, 7.285845258474833], [-1.5727570921173784, 18.06083361844592, 23.0852116972877, 8.32729182037558], [-1.12678033976398, 20.028529012983302, 25.045994354642104, 9.368738382276327], [-0.6808035874105816, 21.996224407520685, 27.00677701199651, 10.410184944177074], [-0.23482683505718327, 23.96391980205807, 28.967559669350912, 11.45163150607782], array([ 0, 25, 30, 12])]\n"
     ]
    }
   ],
   "source": [
    "v_path = nx.algorithms.shortest_path(G, root.idx, add_node.idx)\n",
    "print('Vertices for shortest path:',v_path)\n",
    "\n",
    "path = []\n",
    "for p in v_path:\n",
    "  path.append(dictionary[p])\n",
    "print('Actual path:',path)"
   ]
  }
 ],
 "metadata": {
  "colab": {
   "collapsed_sections": [],
   "name": "MM_Project",
   "provenance": [],
   "toc_visible": true
  },
  "kernelspec": {
   "display_name": "Python 3",
   "language": "python",
   "name": "python3"
  },
  "language_info": {
   "codemirror_mode": {
    "name": "ipython",
    "version": 3
   },
   "file_extension": ".py",
   "mimetype": "text/x-python",
   "name": "python",
   "nbconvert_exporter": "python",
   "pygments_lexer": "ipython3",
   "version": "3.7.6"
  }
 },
 "nbformat": 4,
 "nbformat_minor": 1
}
