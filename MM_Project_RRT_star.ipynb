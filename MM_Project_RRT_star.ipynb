{
  "nbformat": 4,
  "nbformat_minor": 0,
  "metadata": {
    "colab": {
      "name": "MM_Project_RRT*.ipynb",
      "provenance": []
    },
    "kernelspec": {
      "name": "python3",
      "display_name": "Python 3"
    }
  },
  "cells": [
    {
      "cell_type": "code",
      "metadata": {
        "id": "FfhPcid4-5bP",
        "colab_type": "code",
        "colab": {}
      },
      "source": [
        "import numpy as np\n",
        "import sklearn\n",
        "import networkx as nx\n",
        "from matplotlib import pyplot as plt\n",
        "from shapely.geometry import Polygon\n",
        "import sys\n",
        "sys.setrecursionlimit(10**6) \n",
        "\n",
        "np.random.seed(42)"
      ],
      "execution_count": 0,
      "outputs": []
    },
    {
      "cell_type": "code",
      "metadata": {
        "id": "6byWM6edAeVG",
        "colab_type": "code",
        "outputId": "7dcfe69e-b26a-4c10-c3f7-cb8057ddcd3b",
        "colab": {
          "base_uri": "https://localhost:8080/",
          "height": 193
        }
      },
      "source": [
        "!pip install gtsam"
      ],
      "execution_count": 2,
      "outputs": [
        {
          "output_type": "stream",
          "text": [
            "Collecting gtsam\n",
            "\u001b[?25l  Downloading https://files.pythonhosted.org/packages/c5/ef/a3be1e5c4e91839bf813399775bd73629593ec383423af4680be4205b504/gtsam-4.0.2-3-cp36-cp36m-manylinux1_x86_64.whl (7.8MB)\n",
            "\u001b[K     |████████████████████████████████| 7.8MB 3.0MB/s \n",
            "\u001b[?25hRequirement already satisfied: numpy>=1.12.0 in /usr/local/lib/python3.6/dist-packages (from gtsam) (1.18.2)\n",
            "Requirement already satisfied: Cython>=0.25.2 in /usr/local/lib/python3.6/dist-packages (from gtsam) (0.29.16)\n",
            "Collecting backports-abc>=0.5\n",
            "  Downloading https://files.pythonhosted.org/packages/7d/56/6f3ac1b816d0cd8994e83d0c4e55bc64567532f7dc543378bd87f81cebc7/backports_abc-0.5-py2.py3-none-any.whl\n",
            "Installing collected packages: backports-abc, gtsam\n",
            "Successfully installed backports-abc-0.5 gtsam-4.0.2\n"
          ],
          "name": "stdout"
        }
      ]
    },
    {
      "cell_type": "code",
      "metadata": {
        "id": "CuZKZIKxAg6r",
        "colab_type": "code",
        "colab": {}
      },
      "source": [
        "from mobileManipulator import FourLinkMM\n",
        "import gtsam\n",
        "import gtsam.utils.plot as gtsam_plot\n",
        "from gtsam import Pose2\n",
        "from utils import *"
      ],
      "execution_count": 0,
      "outputs": []
    },
    {
      "cell_type": "code",
      "metadata": {
        "id": "dDIw4_77AlVD",
        "colab_type": "code",
        "colab": {}
      },
      "source": [
        "def RandomQ(Qgoal, arm, obstacles):\n",
        "    pi = 3.14\n",
        "    t1 = 0\n",
        "    t2 = 0\n",
        "    t3 = 0\n",
        "    t4 = 0\n",
        "    if np.random.randn() <= 0.15: #15% probability that it returns Qgoal\n",
        "        print('HIT GOAL')\n",
        "        return Qgoal\n",
        "    collision = True\n",
        "    while collision:      \n",
        "        #Each t[i] ranges from -180 to 180\n",
        "        t1 = np.random.rand()*360-180\n",
        "        t2 = np.random.rand()*360-180\n",
        "        t3 = np.random.rand()*360-180\n",
        "        t4 = np.random.rand()*360-180\n",
        "        q = np.radians(vector4(t1, t2, t3, t4))\n",
        "        sTt_ee = arm.fwd_kinematics(q)\n",
        "        sTt_b, qdash = arm.ik2(sTt_ee, obstacles)\n",
        "        collision = arm.check_collision_with_obstacles(obstacles, sTt_b, q) #colliding with obstacle\n",
        "           \n",
        "    return [t1,t2,t3,t4]"
      ],
      "execution_count": 0,
      "outputs": []
    },
    {
      "cell_type": "code",
      "metadata": {
        "id": "bAm4TDRSAoDF",
        "colab_type": "code",
        "colab": {}
      },
      "source": [
        "class Node_manip():\n",
        "  def __init__(self, idx, Q, dictionary, G):\n",
        "    self.idx = idx\n",
        "    self.t1 = Q[0]\n",
        "    self.t2 = Q[1]\n",
        "    self.t3 = Q[2]\n",
        "    self.t4 = Q[3]\n",
        "    self.neighbors = []\n",
        "    self.parent = None\n",
        "    dictionary[idx] = Q\n",
        "    G.add_node(idx)"
      ],
      "execution_count": 0,
      "outputs": []
    },
    {
      "cell_type": "code",
      "metadata": {
        "id": "IXylpao8Aojg",
        "colab_type": "code",
        "colab": {}
      },
      "source": [
        "class Tree_manip():\n",
        "  def __init__(self, curr_iter, curr_node):\n",
        "    self.root = curr_node\n",
        "\n",
        "  def find_dist(self, q0, q1):\n",
        "    if type(q0) is list:\n",
        "      #print('compare',q0, q1)\n",
        "      val1 = q0[0] - q1[0]\n",
        "      val2 = q0[1] - q1[1]\n",
        "      val3 = q0[2] - q1[2]\n",
        "      val4 = q0[3] - q1[3]\n",
        "    else:\n",
        "      #print('compare',[q0.t1, q0.t2, q0.t3, q0.t4], q1)\n",
        "      val1 = q0.t1-q1[0]\n",
        "      val2 = q0.t2-q1[1]\n",
        "      val3 = q0.t3-q1[2]\n",
        "      val4 = q0.t4-q1[3]\n",
        "    dist_val = np.sqrt(np.square(val1)+np.square(val2)+np.square(val3)+np.square(val4))\n",
        "    return dist_val\n",
        "  \n",
        "  def find_neighbors(self, q, dictionary, radius):\n",
        "    costs = {}\n",
        "    Xbest = None\n",
        "    min_cost = 10000000\n",
        "\n",
        "    for i in range(len(dictionary)):\n",
        "      q0 = dictionary[i]\n",
        "      c = self.find_dist(q0, q)\n",
        "      #print(q0)\n",
        "\n",
        "      if c <= radius:\n",
        "        costs[i] = c\n",
        "      if c < min_cost:\n",
        "        Xbest = q0\n",
        "        min_cost = c\n",
        "    return Xbest, costs\n",
        "\n",
        "  def iterate(self, q, qc, dictionary):\n",
        "    min_val = 1000000\n",
        "    explore = None\n",
        "    for i in range(len(dictionary)):\n",
        "      dval = self.find_dist(qc, dictionary[i])\n",
        "      if dval < min_val:\n",
        "        min_val = dval\n",
        "        explore = dictionary[i]\n",
        "    return min_val, explore\n",
        "    \n",
        "  def iterate2(self, q, qc):\n",
        "    #print('check this', q)\n",
        "    if q == None or q.neighbors == []: #no neighbors\n",
        "      return 10000, q\n",
        "    #print('look here',q.idx,q,q.neighbors[0].idx)\n",
        "    \n",
        "    m1 = 1000000\n",
        "    e1 = None\n",
        "\n",
        "    for i in range(len(q.neighbors)):\n",
        "      new_dist = self.find_dist(q.neighbors[i], qc)\n",
        "\n",
        "      if new_dist < m1:\n",
        "        e1 = q.neighbors[i]\n",
        "        m1 = new_dist\n",
        "\n",
        "      #explore neighbor \n",
        "      m2, e2 = self.iterate(e1, qc)\n",
        "      if m2 < m1:\n",
        "        m1 = m2 \n",
        "        e1 = e2\n",
        "\n",
        "    return m1, e1\n",
        "\n",
        "  def steer(self, Q_curr, Q_new, step_size):\n",
        "    q1 = np.asarray(Q_curr)\n",
        "    q2 = np.asarray(Q_new) #go in direction of q2\n",
        "    q_sub = np.subtract(q2,q1)\n",
        "    q_dir = q_sub/np.linalg.norm(q_sub)\n",
        "    q_dir *= step_size\n",
        "\n",
        "    q_new = q1+q_dir\n",
        "    q_steer = [q_new[0], q_new[1], q_new[2], q_new[3]]\n",
        "    return q_steer\n",
        "\n",
        "  def link(self, q1, q2, G):\n",
        "    if q2 not in q1.neighbors:\n",
        "      q1.neighbors.append(q2)\n",
        "      q2.parent = q1\n",
        "      G.add_edge(q1.idx, q2.idx)\n",
        "    return\n",
        "\n",
        "  def find_closest(self, Q_curr, dictionary):\n",
        "    ##print('SEARCHING', Q_curr)\n",
        "    min_dist, explore = self.iterate(self.root, Q_curr, dictionary)\n",
        "    return explore, min_dist"
      ],
      "execution_count": 0,
      "outputs": []
    },
    {
      "cell_type": "code",
      "metadata": {
        "id": "1mWKhuelHUYC",
        "colab_type": "code",
        "colab": {}
      },
      "source": [
        "def check_for_collision(xnear, xnew, step_size, lim):\n",
        "  q1 = np.asarray(xnear)\n",
        "  q2 = np.asarray(xnew)\n",
        "  qdiff = q2-q1\n",
        "  q_dir = qdiff/np.linalg.norm(qdiff)\n",
        "\n",
        "  q = q1\n",
        "  collision = False\n",
        "  while abs(q[0]-q1[0]) > lim or abs(q[1]-q1[1]) > lim or abs(q[2]-q1[2]) > lim or abs(q[3]-q1[3]) > lim:\n",
        "    q += step_size*q_dir\n",
        "\n",
        "    #check for collision\n",
        "    sTt_ee = arm.fwd_kinematics(q)\n",
        "    sTt_b, qdash = arm.ik2(sTt_ee, obstacles)\n",
        "    collision = arm.check_collision_with_obstacles(obstacles, sTt_b, q)\n",
        "\n",
        "    if collision == True:\n",
        "      return True\n",
        "  return False"
      ],
      "execution_count": 0,
      "outputs": []
    },
    {
      "cell_type": "code",
      "metadata": {
        "id": "W1X8QUQkM1kL",
        "colab_type": "code",
        "colab": {}
      },
      "source": [
        "def find_idx_by_node(all_nodes, q):\n",
        "  for i in range(len(all_nodes)):\n",
        "    qb = all_nodes[i]\n",
        "    qb_b = [qb.t1, qb.t2, qb.t3, qb.t4]\n",
        "    if qb_b == q:\n",
        "      return qb.idx\n",
        "  return -1"
      ],
      "execution_count": 0,
      "outputs": []
    },
    {
      "cell_type": "code",
      "metadata": {
        "id": "beEpNZJK1TK7",
        "colab_type": "code",
        "colab": {}
      },
      "source": [
        "def search_node(all_nodes, idx):\n",
        "  for i in range(len(all_nodes)):\n",
        "    if all_nodes[i].idx == idx:\n",
        "      return all_nodes[i]"
      ],
      "execution_count": 0,
      "outputs": []
    },
    {
      "cell_type": "code",
      "metadata": {
        "id": "y4OuDOapAt85",
        "colab_type": "code",
        "outputId": "a89d0e2d-2b29-4643-8d88-45751990582c",
        "colab": {
          "base_uri": "https://localhost:8080/",
          "height": 265
        }
      },
      "source": [
        "arm = FourLinkMM()\n",
        "obstacles = [Polygon([(3,4), (3, 5), (4, 5), (4,4)])]\n",
        "base, link_1, link_2, link_3, link_4 = arm.create_manipulator_model(Pose2(0, 0, 0), np.radians(vector4(0, 25, 30, 12)))\n",
        "plt.figure()\n",
        "plt.plot(*obstacles[0].exterior.xy)\n",
        "plt.plot(*base.exterior.xy)\n",
        "plt.plot(*link_1.exterior.xy)\n",
        "plt.plot(*link_2.exterior.xy)\n",
        "plt.plot(*link_3.exterior.xy)\n",
        "plt.plot(*link_4.exterior.xy)\n",
        "plt.show()"
      ],
      "execution_count": 11,
      "outputs": [
        {
          "output_type": "display_data",
          "data": {
            "image/png": "[encoded data removed]",
            "text/plain": [
              "<Figure size 432x288 with 1 Axes>"
            ]
          },
          "metadata": {
            "tags": [],
            "needs_background": "light"
          }
        }
      ]
    },
    {
      "cell_type": "code",
      "metadata": {
        "id": "plLW5lHeAwha",
        "colab_type": "code",
        "outputId": "39b29950-86c7-4358-9bae-133e2442cd94",
        "colab": {
          "base_uri": "https://localhost:8080/",
          "height": 139
        }
      },
      "source": [
        "num_iters = 1000\n",
        "step_size = 3\n",
        "\n",
        "dictionary = {}\n",
        "Qstart = [0,0,0,0]\n",
        "Qgoal = [0,25,30,12]\n",
        "curr_iter = 1\n",
        "G = nx.Graph()\n",
        "lim = 15 #The robot can stop at a configuration (q1,q2,q3,q4) where q[i] is at most 15 degrees away from Qgoal[i]\n",
        "\n",
        "root = Node_manip(0, Qstart, dictionary, G)\n",
        "graph = Tree_manip(0, root)\n",
        "\n",
        "till_now = [Qstart]\n",
        "curr_node = root\n",
        "\n",
        "radius = 40\n",
        "init_cost = {}\n",
        "init_cost[0]=0\n",
        "\n",
        "all_nodes = []\n",
        "all_nodes.append(root)\n",
        "\n",
        "while curr_iter < num_iters:\n",
        "  if curr_iter%100 == 0:\n",
        "    print(curr_iter,'iterations completed')\n",
        "  pos = RandomQ(Qgoal, arm, obstacles) \n",
        "  \n",
        "  q = np.radians(vector4(pos[0], pos[1], pos[2], pos[3]))\n",
        "  c0 = [curr_node.t1, curr_node.t2, curr_node.t3, curr_node.t4]\n",
        "\n",
        "  c1, min_dist =graph.find_closest(pos, dictionary) #xnearest\n",
        "  #[nearest_node.t1, nearest_node.t2, nearest_node.t3, nearest_node.t4]\n",
        "  nearest_node_idx = find_idx_by_node(all_nodes, c1)\n",
        "  nearest_node = all_nodes[nearest_node_idx]\n",
        "\n",
        "\n",
        "  steer_node = graph.steer(c1, pos, step_size) #xnew\n",
        "\n",
        "  Xbest, costs = graph.find_neighbors(steer_node, dictionary, radius)\n",
        "\n",
        "  #if Xbest == None: #No node found in that radius\n",
        "  #  steer_node = graph.steer(nearest_node, pos, step_size)\n",
        "  #else:\n",
        "  #  #print('works')\n",
        "  #  steer_node = graph.steer(Xbest, pos, step_size)\n",
        "\n",
        "  collision = check_for_collision(c1, steer_node, step_size, 3)\n",
        "  if collision == False:\n",
        "    add_node = Node_manip(curr_iter, steer_node, dictionary, G) #add xnew to graph\n",
        "    all_nodes.append(add_node)\n",
        "    init_cost[curr_iter] = graph.find_dist(root, steer_node)\n",
        "  #graph.link(nearest_node, add_node, G)\n",
        "\n",
        "    cval = 10000000\n",
        "    node_id = -1\n",
        "    xmin = c1 #nearest_node\n",
        "    for idx in costs:\n",
        "      qn = dictionary[idx]\n",
        "\n",
        "      collision = check_for_collision(qn, steer_node, step_size, 3) #xnear, xnew\n",
        "      if collision == False:\n",
        "        cval = init_cost[idx] +  graph.find_dist(qn, steer_node)\n",
        "        #print('compare:',init_cost[idx],dictionary[idx], cval, init_cost[curr_iter])\n",
        "        if cval < init_cost[curr_iter]: #steernode\n",
        "          xmin = qn\n",
        "          node_id = idx\n",
        "\n",
        "    if node_id == -1: \n",
        "      graph.link(add_node, nearest_node, G)\n",
        "      #print('look here', c1, steer_node, pos)\n",
        "    else:\n",
        "      qn_node = search_node(all_nodes, node_id)\n",
        "      graph.link(add_node, qn_node, G)\n",
        "\n",
        "    for idx in costs:\n",
        "      qn = dictionary[idx]\n",
        "      if idx == node_id:\n",
        "        continue\n",
        "      collision = check_for_collision(qn, steer_node, step_size, 3) \n",
        "      if collision == False and init_cost[idx] > init_cost[curr_iter]+graph.find_dist(qn, steer_node):\n",
        "        graph.link(qn, steer_node, G)\n",
        "        q_node = search_node(all_nodes, idx)\n",
        "        xparent = qn_node.parent\n",
        "        parent_idx = find_idx_by_node(all_nodes, xparent)\n",
        "        G.remove_edge(parent_idx, idx)\n",
        "    #if min_dist + graph.find_dist(qn, pos) < costs[idx]:\n",
        "    #  curr_iter += 1\n",
        "    #  cost[idx] = min_dist + graph.find_dist(qn, pos)\n",
        "    #  new_steer_node = graph.steer(qn, pos, step_size)\n",
        "    #  new_add_node = Node_manip(curr_iter, new_steer_node, dictionary, G)\n",
        "    #  graph.link(qn, new_add_node, G)\n",
        "\n",
        "\n",
        "    curr_node = add_node\n",
        "    curr_iter += 1\n",
        "\n",
        "  #print(till_now)\n",
        "    till_now.append(steer_node)\n",
        "    add = [add_node.t1, add_node.t2, add_node.t3, add_node.t4]\n",
        "  #print('over here', pos, c1, add, graph.find_dist(add, Qgoal))\n",
        "    #print('add',add,c1,Qgoal,graph.find_dist(add,Qgoal))\n",
        "    if abs(add[0] -Qgoal[0]) <= lim and abs(add[1]-Qgoal[1]) <= lim and abs(add[2]-Qgoal[2]) <= lim and abs(add[3]-Qgoal[3]) <= lim:\n",
        "      print(\"reached goal\")\n",
        "      break\n",
        "#print(curr_iter)"
      ],
      "execution_count": 45,
      "outputs": [
        {
          "output_type": "stream",
          "text": [
            "HIT GOAL\n",
            "HIT GOAL\n",
            "HIT GOAL\n",
            "HIT GOAL\n",
            "HIT GOAL\n",
            "HIT GOAL\n",
            "reached goal\n"
          ],
          "name": "stdout"
        }
      ]
    },
    {
      "cell_type": "code",
      "metadata": {
        "id": "IZLkPifbAxBU",
        "colab_type": "code",
        "outputId": "5ab8909e-80d9-4290-b1f3-30e2b10576d0",
        "colab": {
          "base_uri": "https://localhost:8080/",
          "height": 72
        }
      },
      "source": [
        "v_path = nx.algorithms.shortest_path(G, root.idx, add_node.idx)\n",
        "print('Vertices for shortest path:',v_path)\n",
        "\n",
        "path = []\n",
        "for p in v_path:\n",
        "  path.append(dictionary[p])\n",
        "print('Actual path:',path)"
      ],
      "execution_count": 0,
      "outputs": [
        {
          "output_type": "stream",
          "text": [
            "Vertices for shortest path: [0, 1, 4, 5, 7, 8, 9, 10, 11]\n",
            "Actual path: [[0, 0, 0, 0], [1.9298341953398226, -1.1476194750787523, 0.4359383050551553, -1.9413055692246668], [0.0, 1.8358326736802424, 2.202999208416291, 0.8811996833665164], [0.0, 3.6716653473604848, 4.405998416832582, 1.7623993667330329], [0.0, 5.507498021040727, 6.608997625248874, 2.6435990500995494], [0.0, 7.3433306947209696, 8.811996833665164, 3.5247987334660658], [0.0, 9.179163368401213, 11.014996042081455, 4.405998416832582], [0.0, 11.014996042081455, 13.217995250497745, 5.287198100199099], [0.0, 12.850828715761697, 15.420994458914036, 6.168397783565615]]\n"
          ],
          "name": "stdout"
        }
      ]
    },
    {
      "cell_type": "code",
      "metadata": {
        "id": "u0gjvHo_dlZq",
        "colab_type": "code",
        "colab": {}
      },
      "source": [
        ""
      ],
      "execution_count": 0,
      "outputs": []
    }
  ]
}