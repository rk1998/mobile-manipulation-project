{
  "nbformat": 4,
  "nbformat_minor": 0,
  "metadata": {
    "colab": {
      "name": "mobile_manipulator_animation_rrt_star.ipynb",
      "provenance": [],
      "collapsed_sections": []
    },
    "kernelspec": {
      "name": "python3",
      "display_name": "Python 3"
    }
  },
  "cells": [
    {
      "cell_type": "code",
      "metadata": {
        "id": "AcKQrhuC6SHb",
        "colab_type": "code",
        "outputId": "16f7c8e1-600e-42cf-e76d-b5ac7efc3596",
        "colab": {
          "base_uri": "https://localhost:8080/",
          "height": 86
        }
      },
      "source": [
        "!pip install gtsam"
      ],
      "execution_count": 0,
      "outputs": [
        {
          "output_type": "stream",
          "text": [
            "Requirement already satisfied: gtsam in /usr/local/lib/python3.6/dist-packages (4.0.2)\n",
            "Requirement already satisfied: numpy>=1.12.0 in /usr/local/lib/python3.6/dist-packages (from gtsam) (1.18.2)\n",
            "Requirement already satisfied: backports-abc>=0.5 in /usr/local/lib/python3.6/dist-packages (from gtsam) (0.5)\n",
            "Requirement already satisfied: Cython>=0.25.2 in /usr/local/lib/python3.6/dist-packages (from gtsam) (0.29.16)\n"
          ],
          "name": "stdout"
        }
      ]
    },
    {
      "cell_type": "code",
      "metadata": {
        "id": "UqRdiKJj6UeG",
        "colab_type": "code",
        "colab": {}
      },
      "source": [
        "from __future__ import print_function\n",
        "\n",
        "import math\n",
        "import unittest\n",
        "from functools import reduce\n",
        "\n",
        "import matplotlib.pyplot as plt\n",
        "import numpy as np\n",
        "import scipy\n",
        "from scipy import linalg, matrix\n",
        "\n",
        "import matplotlib.patches as mpatches\n",
        "import matplotlib.transforms as mtransforms\n",
        "import mpl_toolkits.mplot3d.axes3d as p3\n",
        "\n",
        "# Required to do animations in colab\n",
        "from matplotlib import animation\n",
        "from IPython.display import HTML\n",
        "from mobileManipulator import FourLinkMM\n",
        "import gtsam\n",
        "import gtsam.utils.plot as gtsam_plot\n",
        "from gtsam import Pose2\n",
        "import shapely\n",
        "from shapely.geometry import Polygon, LineString\n",
        "from shapely import affinity\n",
        "from utils import *"
      ],
      "execution_count": 0,
      "outputs": []
    },
    {
      "cell_type": "code",
      "metadata": {
        "id": "8yv9OfR96cE-",
        "colab_type": "code",
        "colab": {}
      },
      "source": [
        "def visualize_tree(env, graph, graph_dictionary):\n",
        "    plt.figure()\n",
        "    for edge in graph.edges:\n",
        "        parent_idx, child_idx = edge\n",
        "        end_eff_p = graph_dictionary[parent_idx]\n",
        "        end_eff_c = graph_dictionary[child_idx]\n",
        "        plt.plot([end_eff_p.x(), end_eff_c.x()], [end_eff_p.y(), end_eff_c.y()], \"ro-\", markersize=2)\n",
        "    for obstacle in env.obstacles:\n",
        "        plt.plot(*obstacle.exterior.xy)\n",
        "    plt.show()"
      ],
      "execution_count": 0,
      "outputs": []
    },
    {
      "cell_type": "code",
      "metadata": {
        "id": "8nii5L-C6cyo",
        "colab_type": "code",
        "colab": {}
      },
      "source": [
        "def plot_environment(arm, env, goal):\n",
        "    base, link_1, link_2, link_3, link_4 = arm.create_manipulator_model(Pose2(0, 0, 0), vector4(0, 0, 0, 0))\n",
        "    plt.figure()\n",
        "    plt.plot(*base.exterior.xy)\n",
        "    plt.plot(*link_1.exterior.xy)\n",
        "    plt.plot(*link_2.exterior.xy)\n",
        "    plt.plot(*link_3.exterior.xy)\n",
        "    plt.plot(*link_4.exterior.xy)\n",
        "    for obstacle in env.obstacles:\n",
        "        plt.plot(*obstacle.exterior.xy)\n",
        "    plt.plot(goal.x(), goal.y(), marker=\"o\", markersize=6)\n",
        "    plt.show()"
      ],
      "execution_count": 0,
      "outputs": []
    },
    {
      "cell_type": "markdown",
      "metadata": {
        "id": "V4AbZCJs6hJK",
        "colab_type": "text"
      },
      "source": [
        "# **Setup Environment with obstacles**"
      ]
    },
    {
      "cell_type": "code",
      "metadata": {
        "id": "xe39IFY56fmw",
        "colab_type": "code",
        "colab": {}
      },
      "source": [
        "# from rrt_star_manipulator import * \n",
        "\n",
        "max_x = 60\n",
        "max_y = 60\n",
        "QStart = Pose2(10, 0, 0)\n",
        "start_config = (Pose2(0, 0, 0), vector4(0, 0, 0, 0), QStart)\n",
        "arm = FourLinkMM()"
      ],
      "execution_count": 0,
      "outputs": []
    },
    {
      "cell_type": "code",
      "metadata": {
        "id": "LhttcqdiL3Be",
        "colab_type": "code",
        "colab": {}
      },
      "source": [
        "import numpy as np\n",
        "import sklearn\n",
        "import networkx as nx\n",
        "from matplotlib import pyplot as plt\n",
        "import shapely\n",
        "from shapely.geometry import Polygon, Point\n",
        "import sys\n",
        "from mobileManipulator import FourLinkMM\n",
        "import gtsam\n",
        "import gtsam.utils.plot as gtsam_plot\n",
        "from gtsam import Pose2\n",
        "from utils import *\n",
        "import math\n",
        "sys.setrecursionlimit(10**6)\n",
        "\n",
        "# np.random.seed(42)\n",
        "\n",
        "max_x = 50\n",
        "max_y = 50\n",
        "\n",
        "c_map = np.zeros((max_x, max_y))\n",
        "no_obstacles = 5\n",
        "o_size = 4\n",
        "\n",
        "\n",
        "def RandomQ(Qgoal, arm, env):\n",
        "    t1 = 0\n",
        "    t2 = 0\n",
        "    t3 = 0\n",
        "    t4 = 0\n",
        "    sTt_b = None\n",
        "    end_effector = None\n",
        "    q = vector4(0, 0, 0, 0)\n",
        "    if np.random.random_sample() <= 0.15: #15% probability that it returns Qgoal\n",
        "        # sTt_b, q = arm.ik2(Qgoal, env.obstacles)\n",
        "        # return sTt_b, q, Qgoal\n",
        "        return Qgoal\n",
        "    collision = True\n",
        "    while collision:\n",
        "        x = np.random.random_sample()*env.max_x\n",
        "        y = np.random.random_sample()*env.max_y\n",
        "        theta = np.random.random_sample()*360 - 180\n",
        "        end_effector = Pose2(x, y, math.radians(theta))\n",
        "        if env.check_collision_with_obstacles(end_effector) == False:\n",
        "            break\n",
        "            # sTt_b, q = arm.ik2(end_effector, env.obstacles)\n",
        "            # collision = arm.check_collision_with_obstacles(env.obstacles, sTt_b, q)\n",
        "        else:\n",
        "            collision = True\n",
        "\n",
        "    return end_effector\n",
        "    # return sTt_b, q end_effector\n",
        "\n",
        "class Environment:\n",
        "    def __init__(self, max_x, max_y, obstacles=None, num_obstacles=5, obstacle_size=4):\n",
        "        self.max_x = max_x\n",
        "        self.max_y = max_y\n",
        "        self.c_map = np.zeros((max_x, max_y))\n",
        "        self.num_obstacles = num_obstacles\n",
        "        self.o_size = obstacle_size\n",
        "        if obstacles is None:\n",
        "            self.obstacles = self.create_obstacles()\n",
        "        else:\n",
        "            self.obstacles = obstacles\n",
        "\n",
        "    def create_obstacles(self):\n",
        "        obstacles = []\n",
        "        i = 0\n",
        "        while i < no_obstacles:\n",
        "          ob_pos_x, ob_pos_y = self.randomPosition()\n",
        "          obstacle = shapely.geometry.box(ob_pos_x, ob_pos_y,\n",
        "                    ob_pos_x + self.o_size, ob_pos_y + self.o_size)\n",
        "          obstacles.append(obstacle)\n",
        "          i += 1\n",
        "        return obstacles\n",
        "    def check_collision_with_obstacles(self, pose):\n",
        "\n",
        "        point = Point(pose.x(), pose.y())\n",
        "        for obstacle in self.obstacles:\n",
        "            if obstacle.contains(point) or obstacle.exterior.distance(point) <= 2.5:\n",
        "                return True\n",
        "        return False\n",
        "\n",
        "    def check_obstacle_free(self, pose1, pose2):\n",
        "        \"\"\"\n",
        "        Checks if two poses have an obstacle free straight line path\n",
        "        \"\"\"\n",
        "        line = LineString([(pose1.x(), pose1.y()), (pose2.x(), pose2.y())])\n",
        "        for obstacle in self.obstacles:\n",
        "            if obstacle.intersects(line):\n",
        "                return False\n",
        "        return True\n",
        "\n",
        "    def randomPosition(self):\n",
        "        xc = np.random.randint(self.max_x)\n",
        "        yc = np.random.randint(self.max_y)\n",
        "        return xc, yc\n",
        "\n",
        "class Node_manip():\n",
        "    def __init__(self, idx, end_effector_pose, dictionary, G):\n",
        "        self.idx = idx\n",
        "        self.cost = 0\n",
        "        # self.q = Q\n",
        "        # self.base_pose = base_pose\n",
        "        self.end_effector_pose = end_effector_pose\n",
        "        self.neighbors = []\n",
        "        self.parent = None\n",
        "        dictionary[idx] = self.end_effector_pose\n",
        "        G.add_node(idx)\n",
        "\n",
        "class Tree_manip():\n",
        "    def __init__(self, curr_iter, curr_node):\n",
        "        self.root = curr_node\n",
        "        self.costs = {}\n",
        "        self.costs[self.root.idx] = self.root.cost\n",
        "        self.nodes = {}\n",
        "        self.nodes[self.root.idx] = self.root\n",
        "\n",
        "    def find_dist(self, q0, q1):\n",
        "        pose_1 = q0.end_effector_pose\n",
        "\n",
        "        dist_val = np.linalg.norm(delta(q1, pose_1))\n",
        "        return dist_val\n",
        "      \n",
        "    def find_dist2(self, pose_1, q1):\n",
        "        dist_val = np.linalg.norm(delta(q1, pose_1))\n",
        "        return dist_val\n",
        "\n",
        "    def find_neighbors(self, q, dictionary, radius, G, env):\n",
        "      costs = {}\n",
        "      Xbest = None\n",
        "      min_cost = 10000000\n",
        "      idx = 0\n",
        "      for i in dictionary.keys():\n",
        "        q0 = dictionary[i]\n",
        "        c = self.find_dist2(q0, q)\n",
        "        if env.check_obstacle_free(q0, q):\n",
        "          if c <= radius:\n",
        "            costs[i] = c\n",
        "          if c < min_cost:\n",
        "            Xbest = q0\n",
        "            min_cost = c\n",
        "            idx = i\n",
        "      return Xbest, costs, idx\n",
        "\n",
        "    def iterate(self, q, qc):\n",
        "\n",
        "        if q== None or q.neighbors == []: #no neighbors\n",
        "            return 10000, q\n",
        "\n",
        "        m1 = 1000000\n",
        "        e1 = None\n",
        "\n",
        "        for i in range(len(q.neighbors)):\n",
        "            new_dist = self.find_dist(q.neighbors[i], qc)\n",
        "\n",
        "            if new_dist < m1:\n",
        "                e1 = q.neighbors[i]\n",
        "                m1 = new_dist\n",
        "\n",
        "            #explore neighbor\n",
        "            m2, e2 = self.iterate(e1, qc)\n",
        "            if m2 < m1:\n",
        "                m1 = m2\n",
        "                e1 = e2\n",
        "\n",
        "        return m1, e1\n",
        "\n",
        "    def steer(self, Q_curr, end_eff_new, step_size, arm, env, distance_limit=2.5):\n",
        "        end_eff_1 = Q_curr.end_effector_pose\n",
        "        # base_1 = Q_curr.base_pose\n",
        "        if env.check_collision_with_obstacles(end_eff_1):\n",
        "            # return None, None, None\n",
        "            return None\n",
        "        # q1 = np.asarray(Q_curr)\n",
        "        # q2 = np.asarray(Q_new) #go in direction of q2\n",
        "        if np.linalg.norm(delta(end_eff_1, end_eff_new)) < distance_limit:\n",
        "            # return base_new, q_new, end_eff_new\n",
        "            return end_eff_new\n",
        "        q_sub = delta(end_eff_1, end_eff_new)\n",
        "        q_dir = q_sub/np.linalg.norm(q_sub)\n",
        "        q_dir *= step_size\n",
        "\n",
        "        q_new = vector3(end_eff_1.x(), end_eff_1.y(), end_eff_1.theta()) + q_dir\n",
        "        end_eff_steer = Pose2(q_new[0], q_new[1], q_new[2])\n",
        "        if env.check_collision_with_obstacles(end_eff_steer) == False:\n",
        "            # base_pose, q_steer = arm.ik2(end_eff_steer, env.obstacles)\n",
        "            # return base_pose, q_steer, end_eff_steer\n",
        "            return end_eff_steer\n",
        "        else:\n",
        "            # return None, None, None\n",
        "            return None\n",
        "\n",
        "    def steer2(self, end_eff_1, end_eff_new, step_size, arm, env, distance_limit=2.5):\n",
        "        # base_1 = Q_curr.base_pose\n",
        "        if env.check_collision_with_obstacles(end_eff_1):\n",
        "            return None\n",
        "        if np.linalg.norm(delta(end_eff_1, end_eff_new)) < distance_limit:\n",
        "            return end_eff_new\n",
        "        q_sub = delta(end_eff_1, end_eff_new)\n",
        "        q_dir = q_sub/np.linalg.norm(q_sub)\n",
        "        q_dir *= step_size\n",
        "\n",
        "        q_new = vector3(end_eff_1.x(), end_eff_1.y(), end_eff_1.theta()) + q_dir\n",
        "        end_eff_steer = Pose2(q_new[0], q_new[1], q_new[2])\n",
        "        if env.check_collision_with_obstacles(end_eff_steer) == False:\n",
        "            return end_eff_steer\n",
        "        else:\n",
        "            # return None, None, None\n",
        "            return None\n",
        "\n",
        "    def link(self, q1, q2, G):\n",
        "        if q2 not in q1.neighbors:\n",
        "            q1.neighbors.append(q2)\n",
        "            q2.parent = q1\n",
        "            link_cost = self.find_dist2(q1.end_effector_pose, q2.end_effector_pose)\n",
        "            q2.cost = link_cost + q1.cost\n",
        "            G.add_edge(q1.idx, q2.idx)\n",
        "            self.costs[q2.idx] = q2.cost\n",
        "            self.nodes[q2.idx] = q2\n",
        "            return\n",
        "\n",
        "    def find_closest(self, Q_curr):\n",
        "        min_dist, explore = self.iterate(self.root, Q_curr)\n",
        "        return explore\n",
        "\n",
        "    def find_closest2(self, Q_curr):\n",
        "        min_dist, explore = self.iterate(self.root, Q_curr)\n",
        "        return explore, min_dist\n",
        "\n",
        "\n",
        "def RRT(start_config, Qgoal, env, arm, lim=0.5, step_size=3, num_iters=1000):\n",
        "    base, q, Qstart = start_config\n",
        "    dictionary = {}\n",
        "    curr_iter = 0\n",
        "    # num_iters = 1000\n",
        "    G = nx.Graph()\n",
        "    # lim = 0.2 #The robot can stop at a configuration (q1,q2,q3,q4) where q[i] is at most 15 degrees away from Qgoal[i]\n",
        "    # step_size = 3\n",
        "    path = []\n",
        "    root = Node_manip(0, Qstart, dictionary, G)\n",
        "    path.append((base, q, Qstart))\n",
        "    graph = Tree_manip(0, root)\n",
        "\n",
        "    till_now = [root]\n",
        "    curr_node = root\n",
        "    converged = False\n",
        "\n",
        "    while curr_iter < num_iters:\n",
        "\n",
        "        if curr_iter % 1000 == 0:\n",
        "            print(\"ITERATION: \" + str(curr_iter))\n",
        "        # sTt_b_rand, q_rand, end_eff_rand = RandomQ(Qgoal, arm, env)\n",
        "        end_eff_rand = RandomQ(Qgoal, arm, env)\n",
        "        #print('NEW ITERATION')\n",
        "\n",
        "        nearest_node = graph.find_closest(end_eff_rand)\n",
        "        #c1 = [nearest_node.t1, nearest_node.t2, nearest_node.t3, nearest_node.t4]\n",
        "\n",
        "\n",
        "        end_eff_steer = graph.steer(nearest_node, end_eff_rand, step_size, arm, env, distance_limit=step_size)\n",
        "        add_node = curr_node\n",
        "        if end_eff_steer is not None:\n",
        "            add_node = Node_manip(curr_iter, end_eff_steer, dictionary, G)\n",
        "            graph.link(nearest_node, add_node, G)\n",
        "            curr_node = add_node\n",
        "            add = add_node.end_effector_pose\n",
        "            curr_iter +=1\n",
        "            if np.linalg.norm(delta(add, Qgoal)) <= lim:\n",
        "                print('reached goal')\n",
        "                converged = True\n",
        "                break\n",
        "        else:\n",
        "            curr_iter += 1\n",
        "    if not converged:\n",
        "        print(\"Failed to converge\")\n",
        "    else:\n",
        "        print(\"Iterations to converge: \" + str(curr_iter))\n",
        "    v_path = nx.algorithms.shortest_path(G, root.idx, add_node.idx)\n",
        "    # print('Vertices for shortest path:',v_path)\n",
        "    path_dist = 0\n",
        "    prev_pose = None\n",
        "    curr_pose = None\n",
        "    for p in v_path:\n",
        "        end_effector = dictionary[p]\n",
        "        prev_pose = curr_pose\n",
        "        curr_pose = end_effector\n",
        "        if prev_pose is not None:\n",
        "            dist = np.linalg.norm(delta(curr_pose, prev_pose))\n",
        "            path_dist += dist\n",
        "        # collision = True\n",
        "        # sTt_b = None\n",
        "        # q = None\n",
        "        # sTt_b, q = arm.ik2(end_effector, env.obstacles)\n",
        "        path.append(end_effector)\n",
        "        # collision = arm.check_collision_with_obstacles(env.obstacles, sTt_b, q)\n",
        "        # path.append((sTt_b, q, end_effector))\n",
        "    # print('Actual path:',path)\n",
        "    print('Path Distance: ' + str(path_dist))\n",
        "\n",
        "    return path, dictionary, G, curr_iter, path_dist, converged\n",
        "\n",
        "def get_base_and_joint_from_path(path, arm, env):\n",
        "    total_path = []\n",
        "    for pose in path:\n",
        "      if type(pose) == tuple:\n",
        "        total_path.append(pose)\n",
        "      else:\n",
        "        sTt_b, q = arm.ik2(pose, env.obstacles)\n",
        "        total_path.append((sTt_b, q, pose))\n",
        "    return total_path\n",
        "\n",
        "def RRT_star(start_config, Qgoal, env, arm, lim=0.5, step_size=3, num_iters=1000):\n",
        "    base, q, Qstart = start_config\n",
        "    dictionary = {}\n",
        "    curr_iter = 0\n",
        "    # num_iters = 1000\n",
        "    G = nx.Graph()\n",
        "    # lim = 0.2 #The robot can stop at a configuration (q1,q2,q3,q4) where q[i] is at most 15 degrees away from Qgoal[i]\n",
        "    # step_size = 3\n",
        "    path = []\n",
        "    root = Node_manip(0, Qstart, dictionary, G)\n",
        "    path.append((base, q, Qstart))\n",
        "    graph = Tree_manip(0, root)\n",
        "\n",
        "    till_now = [root]\n",
        "    curr_node = root\n",
        "    converged = False\n",
        "    radius = 50\n",
        "\n",
        "    while curr_iter < num_iters:\n",
        "\n",
        "        if curr_iter % 1000 == 0:\n",
        "            print(\"ITERATION: \" + str(curr_iter))\n",
        "        # sTt_b_rand, q_rand, end_eff_rand = RandomQ(Qgoal, arm, env)\n",
        "        end_eff_rand = RandomQ(Qgoal, arm, env)\n",
        "        #print('NEW ITERATION')\n",
        "\n",
        "        nearest_node, min_dist = graph.find_closest2(end_eff_rand)\n",
        "\n",
        "        end_eff_steer = graph.steer(nearest_node, end_eff_rand, step_size, arm, env, distance_limit=step_size)\n",
        "        \n",
        "        if end_eff_steer is not None:\n",
        "\n",
        "\n",
        "          Xbest, costs, index = graph.find_neighbors(end_eff_steer, dictionary, radius, G, env)\n",
        "\n",
        "          if Xbest == None: #No node found in that radius\n",
        "            Xbest = nearest_node\n",
        "            # steer_node = graph.steer(nearest_node, end_eff_rand, step_size, arm, env, distance_limit=step_size)\n",
        "          else:\n",
        "          #print('works')\n",
        "            #create node object of best node\n",
        "            Xbest = Node_manip(index, Xbest, dictionary, G)\n",
        "            # steer_node = graph.steer2(Xbest, end_eff_rand, step_size, arm, env, distance_limit=step_size)\n",
        "\n",
        "          #end_eff_steer = graph.steer(nearest_node, end_eff_rand, step_size, arm, env, distance_limit=step_size)\n",
        "          add_node = curr_node\n",
        "          # end_eff_steer = steer_node\n",
        "\n",
        "          add_node = Node_manip(curr_iter, end_eff_steer, dictionary, G)\n",
        "          graph.link(Xbest, add_node, G)\n",
        "          curr_node = add_node\n",
        "          add = add_node.end_effector_pose\n",
        "          curr_iter +=1\n",
        "          if np.linalg.norm(delta(add, Qgoal)) <= lim:\n",
        "              print('reached goal')\n",
        "              converged = True\n",
        "              break\n",
        "          cost_to_steer = graph.costs[add_node.idx]\n",
        "          for idx in costs.keys():\n",
        "              qn = dictionary[idx]\n",
        "              if cost_to_steer + graph.find_dist2(qn, end_eff_steer) < costs[idx]:\n",
        "                  # curr_iter += 1\n",
        "                  qn_node = graph.nodes[idx]\n",
        "\n",
        "                  graph.costs[idx] = cost_to_steer + graph.find_dist2(qn, end_eff_steer)\n",
        "                  \n",
        "                  costs[idx] = min_dist + graph.find_dist2(qn, end_eff_rand)\n",
        "                  # new_steer_node = graph.steer2(qn, end_eff_rand, step_size)\n",
        "                  # new_add_node = Node_manip(curr_iter, new_steer_node, dictionary, G)\n",
        "                  graph.link(qn, new_add_node, G)\n",
        "        else:\n",
        "            curr_iter += 1\n",
        "    if not converged:\n",
        "        print(\"Failed to converge\")\n",
        "    else:\n",
        "        print(\"Iterations to converge: \" + str(curr_iter))\n",
        "    v_path = nx.algorithms.shortest_path(G, root.idx, add_node.idx)\n",
        "    # print('Vertices for shortest path:',v_path)\n",
        "    path_dist = 0\n",
        "    prev_pose = None\n",
        "    curr_pose = None\n",
        "    for p in v_path:\n",
        "        end_effector = dictionary[p]\n",
        "        prev_pose = curr_pose\n",
        "        curr_pose = end_effector\n",
        "        if prev_pose is not None:\n",
        "            dist = np.linalg.norm(delta(curr_pose, prev_pose))\n",
        "            path_dist += dist\n",
        "        # collision = True\n",
        "        # sTt_b = None\n",
        "        # q = None\n",
        "        # sTt_b, q = arm.ik2(end_effector, env.obstacles)\n",
        "        path.append(end_effector)\n",
        "        # collision = arm.check_collision_with_obstacles(env.obstacles, sTt_b, q)\n",
        "        # path.append((sTt_b, q, end_effector))\n",
        "    # print('Actual path:',path)\n",
        "    print('Path Distance: ' + str(path_dist))\n",
        "\n",
        "    return path, dictionary, G, curr_iter, path_dist, converged\n"
      ],
      "execution_count": 0,
      "outputs": []
    },
    {
      "cell_type": "code",
      "metadata": {
        "id": "YD9LyitV6sh5",
        "colab_type": "code",
        "outputId": "c025fbbe-0558-4190-a96f-0342ea8e8bce",
        "colab": {
          "base_uri": "https://localhost:8080/",
          "height": 265
        }
      },
      "source": [
        "obstacles = [shapely.geometry.box(10, 10, 14, 14), shapely.geometry.box(25, 8, 35, 18), shapely.geometry.box(10, 35, 15, 40), shapely.geometry.box(33, 33, 38,38)]\n",
        "env = Environment(max_x, max_y, obstacles=obstacles)\n",
        "QGoal = Pose2(40, 25, np.pi/2)\n",
        "plot_environment(arm, env, QGoal)"
      ],
      "execution_count": 0,
      "outputs": [
        {
          "output_type": "display_data",
          "data": {
            "image/png": "[encoded data removed]",
            "text/plain": [
              "<Figure size 432x288 with 1 Axes>"
            ]
          },
          "metadata": {
            "tags": [],
            "needs_background": "light"
          }
        }
      ]
    },
    {
      "cell_type": "code",
      "metadata": {
        "id": "rnC9KvVK6vvk",
        "colab_type": "code",
        "outputId": "69c0b0a3-9687-498a-cef7-c15cbf355fc7",
        "colab": {
          "base_uri": "https://localhost:8080/",
          "height": 265
        }
      },
      "source": [
        "obstacles1 = [shapely.geometry.box(9, 9, 30, 30)]\n",
        "QGoal = Pose2(35, 25, 0)\n",
        "env = Environment(max_x, max_y, obstacles=obstacles1)\n",
        "plot_environment(arm, env, QGoal)\n"
      ],
      "execution_count": 0,
      "outputs": [
        {
          "output_type": "display_data",
          "data": {
            "image/png": "[encoded data removed]",
            "text/plain": [
              "<Figure size 432x288 with 1 Axes>"
            ]
          },
          "metadata": {
            "tags": [],
            "needs_background": "light"
          }
        }
      ]
    },
    {
      "cell_type": "code",
      "metadata": {
        "id": "WZhvhvCg61pS",
        "colab_type": "code",
        "outputId": "ec2dc1b3-5765-437d-bda2-11b57c3d36f2",
        "colab": {
          "base_uri": "https://localhost:8080/",
          "height": 265
        }
      },
      "source": [
        "QGoal = Pose2(34, 15, np.pi)\n",
        "obstacles2 = [shapely.geometry.box(6, 6, 8, 20), shapely.geometry.box(8, 19, 24, 21), shapely.geometry.box(10, 10, 25, 13), shapely.geometry.box(25, 6, 27, 20)]\n",
        "env = Environment(max_x, max_y, obstacles=obstacles2, num_obstacles=7, obstacle_size = 8)\n",
        "plot_environment(arm, env, QGoal)\n",
        "\n"
      ],
      "execution_count": 0,
      "outputs": [
        {
          "output_type": "display_data",
          "data": {
            "image/png": "[encoded data removed]",
            "text/plain": [
              "<Figure size 432x288 with 1 Axes>"
            ]
          },
          "metadata": {
            "tags": [],
            "needs_background": "light"
          }
        }
      ]
    },
    {
      "cell_type": "code",
      "metadata": {
        "id": "otq3MFdM62V2",
        "colab_type": "code",
        "outputId": "4f5a7ae7-0331-494e-9e47-f7967704ff9e",
        "colab": {
          "base_uri": "https://localhost:8080/",
          "height": 265
        }
      },
      "source": [
        "QGoal = Pose2(27.5, 25, 0)\n",
        "obstacles3 = [Polygon([(8, 10), (18, 10), (18, 30)]), Polygon([(37, 30), (37, 10), (47, 10)]), shapely.geometry.box(19, 6, 35, 9)]\n",
        "env = Environment(max_x, max_y, obstacles=obstacles3)\n",
        "plot_environment(arm, env, QGoal)"
      ],
      "execution_count": 0,
      "outputs": [
        {
          "output_type": "display_data",
          "data": {
            "image/png": "[encoded data removed]",
            "text/plain": [
              "<Figure size 432x288 with 1 Axes>"
            ]
          },
          "metadata": {
            "tags": [],
            "needs_background": "light"
          }
        }
      ]
    },
    {
      "cell_type": "code",
      "metadata": {
        "id": "XDSVdaqb69iy",
        "colab_type": "code",
        "outputId": "827a9d0c-34ad-4ed4-e4b5-1dd59350b49f",
        "colab": {
          "base_uri": "https://localhost:8080/",
          "height": 85
        }
      },
      "source": [
        "path, graph_dictionary, graph, iterations, path_dist, converged = RRT_star(start_config, QGoal, env, arm, lim=0.5, step_size=1.5, num_iters=6000)"
      ],
      "execution_count": 0,
      "outputs": [
        {
          "output_type": "stream",
          "text": [
            "ITERATION: 0\n",
            "reached goal\n",
            "Iterations to converge: 595\n",
            "Path Distance: 42.30566315553549\n"
          ],
          "name": "stdout"
        }
      ]
    },
    {
      "cell_type": "code",
      "metadata": {
        "id": "qqBxSCQR7EVg",
        "colab_type": "code",
        "outputId": "ffdda7e8-7b78-425f-c379-5512e640689e",
        "colab": {
          "base_uri": "https://localhost:8080/",
          "height": 307
        }
      },
      "source": [
        "path = get_base_and_joint_from_path(path, arm, env)"
      ],
      "execution_count": 0,
      "outputs": [
        {
          "output_type": "error",
          "ename": "KeyboardInterrupt",
          "evalue": "ignored",
          "traceback": [
            "\u001b[0;31m---------------------------------------------------------------------------\u001b[0m",
            "\u001b[0;31mKeyboardInterrupt\u001b[0m                         Traceback (most recent call last)",
            "\u001b[0;32m<ipython-input-27-6f31340fa79d>\u001b[0m in \u001b[0;36m<module>\u001b[0;34m()\u001b[0m\n\u001b[0;32m----> 1\u001b[0;31m \u001b[0mpath\u001b[0m \u001b[0;34m=\u001b[0m \u001b[0mget_base_and_joint_from_path\u001b[0m\u001b[0;34m(\u001b[0m\u001b[0mpath\u001b[0m\u001b[0;34m,\u001b[0m \u001b[0marm\u001b[0m\u001b[0;34m,\u001b[0m \u001b[0menv\u001b[0m\u001b[0;34m)\u001b[0m\u001b[0;34m\u001b[0m\u001b[0;34m\u001b[0m\u001b[0m\n\u001b[0m",
            "\u001b[0;32m<ipython-input-26-21ae70f5b7ba>\u001b[0m in \u001b[0;36mget_base_and_joint_from_path\u001b[0;34m(path, arm, env)\u001b[0m\n\u001b[1;32m    307\u001b[0m         \u001b[0mtotal_path\u001b[0m\u001b[0;34m.\u001b[0m\u001b[0mappend\u001b[0m\u001b[0;34m(\u001b[0m\u001b[0mpose\u001b[0m\u001b[0;34m)\u001b[0m\u001b[0;34m\u001b[0m\u001b[0;34m\u001b[0m\u001b[0m\n\u001b[1;32m    308\u001b[0m       \u001b[0;32melse\u001b[0m\u001b[0;34m:\u001b[0m\u001b[0;34m\u001b[0m\u001b[0;34m\u001b[0m\u001b[0m\n\u001b[0;32m--> 309\u001b[0;31m         \u001b[0msTt_b\u001b[0m\u001b[0;34m,\u001b[0m \u001b[0mq\u001b[0m \u001b[0;34m=\u001b[0m \u001b[0marm\u001b[0m\u001b[0;34m.\u001b[0m\u001b[0mik2\u001b[0m\u001b[0;34m(\u001b[0m\u001b[0mpose\u001b[0m\u001b[0;34m,\u001b[0m \u001b[0menv\u001b[0m\u001b[0;34m.\u001b[0m\u001b[0mobstacles\u001b[0m\u001b[0;34m)\u001b[0m\u001b[0;34m\u001b[0m\u001b[0;34m\u001b[0m\u001b[0m\n\u001b[0m\u001b[1;32m    310\u001b[0m         \u001b[0mtotal_path\u001b[0m\u001b[0;34m.\u001b[0m\u001b[0mappend\u001b[0m\u001b[0;34m(\u001b[0m\u001b[0;34m(\u001b[0m\u001b[0msTt_b\u001b[0m\u001b[0;34m,\u001b[0m \u001b[0mq\u001b[0m\u001b[0;34m,\u001b[0m \u001b[0mpose\u001b[0m\u001b[0;34m)\u001b[0m\u001b[0;34m)\u001b[0m\u001b[0;34m\u001b[0m\u001b[0;34m\u001b[0m\u001b[0m\n\u001b[1;32m    311\u001b[0m     \u001b[0;32mreturn\u001b[0m \u001b[0mtotal_path\u001b[0m\u001b[0;34m\u001b[0m\u001b[0;34m\u001b[0m\u001b[0m\n",
            "\u001b[0;32m/content/mobileManipulator.py\u001b[0m in \u001b[0;36mik2\u001b[0;34m(self, sTt_desired, obstacles, base_position, e)\u001b[0m\n\u001b[1;32m    266\u001b[0m                 \u001b[0mJ\u001b[0m \u001b[0;34m=\u001b[0m \u001b[0mself\u001b[0m\u001b[0;34m.\u001b[0m\u001b[0mfull_jacobian\u001b[0m\u001b[0;34m(\u001b[0m\u001b[0mq\u001b[0m\u001b[0;34m,\u001b[0m \u001b[0mbase_position\u001b[0m\u001b[0;34m=\u001b[0m\u001b[0mPose2\u001b[0m\u001b[0;34m(\u001b[0m\u001b[0mbase_x\u001b[0m\u001b[0;34m,\u001b[0m \u001b[0mbase_y\u001b[0m\u001b[0;34m,\u001b[0m \u001b[0mbase_theta\u001b[0m\u001b[0;34m)\u001b[0m\u001b[0;34m)\u001b[0m\u001b[0;34m\u001b[0m\u001b[0;34m\u001b[0m\u001b[0m\n\u001b[1;32m    267\u001b[0m                 \u001b[0msTt_estimate\u001b[0m \u001b[0;34m=\u001b[0m \u001b[0mself\u001b[0m\u001b[0;34m.\u001b[0m\u001b[0mfwd_kinematics\u001b[0m\u001b[0;34m(\u001b[0m\u001b[0mq\u001b[0m\u001b[0;34m,\u001b[0m \u001b[0mbase_pose\u001b[0m\u001b[0;34m=\u001b[0m\u001b[0mPose2\u001b[0m\u001b[0;34m(\u001b[0m\u001b[0mbase_x\u001b[0m\u001b[0;34m,\u001b[0m \u001b[0mbase_y\u001b[0m\u001b[0;34m,\u001b[0m \u001b[0mbase_theta\u001b[0m\u001b[0;34m)\u001b[0m\u001b[0;34m)\u001b[0m\u001b[0;34m\u001b[0m\u001b[0;34m\u001b[0m\u001b[0m\n\u001b[0;32m--> 268\u001b[0;31m                 \u001b[0mcollision\u001b[0m \u001b[0;34m=\u001b[0m \u001b[0mself\u001b[0m\u001b[0;34m.\u001b[0m\u001b[0mcheck_collision_with_obstacles\u001b[0m\u001b[0;34m(\u001b[0m\u001b[0mobstacles\u001b[0m\u001b[0;34m,\u001b[0m \u001b[0mPose2\u001b[0m\u001b[0;34m(\u001b[0m\u001b[0mbase_x\u001b[0m\u001b[0;34m,\u001b[0m \u001b[0mbase_y\u001b[0m\u001b[0;34m,\u001b[0m \u001b[0mbase_theta\u001b[0m\u001b[0;34m)\u001b[0m\u001b[0;34m,\u001b[0m \u001b[0mq\u001b[0m\u001b[0;34m)\u001b[0m\u001b[0;34m\u001b[0m\u001b[0;34m\u001b[0m\u001b[0m\n\u001b[0m\u001b[1;32m    269\u001b[0m                 \u001b[0;31m# q_full = np.hstack((vector3(base_x, base_y, base_theta), q))\u001b[0m\u001b[0;34m\u001b[0m\u001b[0;34m\u001b[0m\u001b[0;34m\u001b[0m\u001b[0m\n\u001b[1;32m    270\u001b[0m                 \u001b[0;31m# q_full = (collision*(self.collision_penalty**2))*q_full\u001b[0m\u001b[0;34m\u001b[0m\u001b[0;34m\u001b[0m\u001b[0;34m\u001b[0m\u001b[0m\n",
            "\u001b[0;32m/content/mobileManipulator.py\u001b[0m in \u001b[0;36mcheck_collision_with_obstacles\u001b[0;34m(self, obstacles, new_base_pose, q)\u001b[0m\n\u001b[1;32m    119\u001b[0m         \u001b[0mq\u001b[0m \u001b[0;34m-\u001b[0m \u001b[0mjoint\u001b[0m \u001b[0mangles\u001b[0m \u001b[0;32mfor\u001b[0m \u001b[0mthe\u001b[0m \u001b[0mlinks\u001b[0m \u001b[0mof\u001b[0m \u001b[0mthe\u001b[0m \u001b[0mmanipulator\u001b[0m \u001b[0marm\u001b[0m\u001b[0;34m\u001b[0m\u001b[0;34m\u001b[0m\u001b[0m\n\u001b[1;32m    120\u001b[0m         \"\"\"\n\u001b[0;32m--> 121\u001b[0;31m         \u001b[0mmodel\u001b[0m \u001b[0;34m=\u001b[0m \u001b[0mself\u001b[0m\u001b[0;34m.\u001b[0m\u001b[0mcreate_manipulator_model\u001b[0m\u001b[0;34m(\u001b[0m\u001b[0mnew_base_pose\u001b[0m\u001b[0;34m,\u001b[0m \u001b[0mq\u001b[0m\u001b[0;34m)\u001b[0m\u001b[0;34m\u001b[0m\u001b[0;34m\u001b[0m\u001b[0m\n\u001b[0m\u001b[1;32m    122\u001b[0m \u001b[0;34m\u001b[0m\u001b[0m\n\u001b[1;32m    123\u001b[0m         \u001b[0;32mfor\u001b[0m \u001b[0mi\u001b[0m \u001b[0;32min\u001b[0m \u001b[0mrange\u001b[0m\u001b[0;34m(\u001b[0m\u001b[0;36m0\u001b[0m\u001b[0;34m,\u001b[0m \u001b[0mlen\u001b[0m\u001b[0;34m(\u001b[0m\u001b[0mmodel\u001b[0m\u001b[0;34m)\u001b[0m\u001b[0;34m)\u001b[0m\u001b[0;34m:\u001b[0m\u001b[0;34m\u001b[0m\u001b[0;34m\u001b[0m\u001b[0m\n",
            "\u001b[0;32m/content/mobileManipulator.py\u001b[0m in \u001b[0;36mcreate_manipulator_model\u001b[0;34m(self, new_base_pose, q)\u001b[0m\n\u001b[1;32m    104\u001b[0m         \u001b[0mlink_4\u001b[0m \u001b[0;34m=\u001b[0m \u001b[0mmpatches\u001b[0m\u001b[0;34m.\u001b[0m\u001b[0mRectangle\u001b[0m\u001b[0;34m(\u001b[0m\u001b[0;34m[\u001b[0m\u001b[0mt3\u001b[0m\u001b[0;34m.\u001b[0m\u001b[0mx\u001b[0m\u001b[0;34m(\u001b[0m\u001b[0;34m)\u001b[0m\u001b[0;34m+\u001b[0m \u001b[0mx_b\u001b[0m\u001b[0;34m,\u001b[0m \u001b[0mt3\u001b[0m\u001b[0;34m.\u001b[0m\u001b[0my\u001b[0m\u001b[0;34m(\u001b[0m\u001b[0;34m)\u001b[0m \u001b[0;34m+\u001b[0m \u001b[0my_b\u001b[0m\u001b[0;34m]\u001b[0m\u001b[0;34m,\u001b[0m \u001b[0;36m0.5\u001b[0m\u001b[0;34m,\u001b[0m \u001b[0;36m0.1\u001b[0m\u001b[0;34m,\u001b[0m \u001b[0mangle\u001b[0m\u001b[0;34m=\u001b[0m\u001b[0;34m(\u001b[0m\u001b[0mtheta_b\u001b[0m\u001b[0;34m+\u001b[0m\u001b[0mq\u001b[0m\u001b[0;34m[\u001b[0m\u001b[0;36m0\u001b[0m\u001b[0;34m]\u001b[0m\u001b[0;34m+\u001b[0m\u001b[0mq\u001b[0m\u001b[0;34m[\u001b[0m\u001b[0;36m1\u001b[0m\u001b[0;34m]\u001b[0m\u001b[0;34m+\u001b[0m\u001b[0mq\u001b[0m\u001b[0;34m[\u001b[0m\u001b[0;36m2\u001b[0m\u001b[0;34m]\u001b[0m\u001b[0;34m+\u001b[0m\u001b[0mq\u001b[0m\u001b[0;34m[\u001b[0m\u001b[0;36m3\u001b[0m\u001b[0;34m]\u001b[0m\u001b[0;34m)\u001b[0m\u001b[0;34m*\u001b[0m\u001b[0;36m180\u001b[0m\u001b[0;34m/\u001b[0m\u001b[0mnp\u001b[0m\u001b[0;34m.\u001b[0m\u001b[0mpi\u001b[0m\u001b[0;34m,\u001b[0m \u001b[0mcolor\u001b[0m\u001b[0;34m=\u001b[0m\u001b[0;34m'k'\u001b[0m\u001b[0;34m)\u001b[0m\u001b[0;34m\u001b[0m\u001b[0;34m\u001b[0m\u001b[0m\n\u001b[1;32m    105\u001b[0m         \u001b[0mlink_1\u001b[0m \u001b[0;34m=\u001b[0m \u001b[0mPolygon\u001b[0m\u001b[0;34m(\u001b[0m\u001b[0mlink_1\u001b[0m\u001b[0;34m.\u001b[0m\u001b[0mget_patch_transform\u001b[0m\u001b[0;34m(\u001b[0m\u001b[0;34m)\u001b[0m\u001b[0;34m.\u001b[0m\u001b[0mtransform\u001b[0m\u001b[0;34m(\u001b[0m\u001b[0mlink_1\u001b[0m\u001b[0;34m.\u001b[0m\u001b[0mget_path\u001b[0m\u001b[0;34m(\u001b[0m\u001b[0;34m)\u001b[0m\u001b[0;34m.\u001b[0m\u001b[0mvertices\u001b[0m\u001b[0;34m[\u001b[0m\u001b[0;34m:\u001b[0m\u001b[0;34m-\u001b[0m\u001b[0;36m1\u001b[0m\u001b[0;34m]\u001b[0m\u001b[0;34m)\u001b[0m\u001b[0;34m)\u001b[0m\u001b[0;34m\u001b[0m\u001b[0;34m\u001b[0m\u001b[0m\n\u001b[0;32m--> 106\u001b[0;31m         \u001b[0mlink_2\u001b[0m \u001b[0;34m=\u001b[0m \u001b[0mPolygon\u001b[0m\u001b[0;34m(\u001b[0m\u001b[0mlink_2\u001b[0m\u001b[0;34m.\u001b[0m\u001b[0mget_patch_transform\u001b[0m\u001b[0;34m(\u001b[0m\u001b[0;34m)\u001b[0m\u001b[0;34m.\u001b[0m\u001b[0mtransform\u001b[0m\u001b[0;34m(\u001b[0m\u001b[0mlink_2\u001b[0m\u001b[0;34m.\u001b[0m\u001b[0mget_path\u001b[0m\u001b[0;34m(\u001b[0m\u001b[0;34m)\u001b[0m\u001b[0;34m.\u001b[0m\u001b[0mvertices\u001b[0m\u001b[0;34m[\u001b[0m\u001b[0;34m:\u001b[0m\u001b[0;34m-\u001b[0m\u001b[0;36m1\u001b[0m\u001b[0;34m]\u001b[0m\u001b[0;34m)\u001b[0m\u001b[0;34m)\u001b[0m\u001b[0;34m\u001b[0m\u001b[0;34m\u001b[0m\u001b[0m\n\u001b[0m\u001b[1;32m    107\u001b[0m         \u001b[0mlink_3\u001b[0m \u001b[0;34m=\u001b[0m \u001b[0mPolygon\u001b[0m\u001b[0;34m(\u001b[0m\u001b[0mlink_3\u001b[0m\u001b[0;34m.\u001b[0m\u001b[0mget_patch_transform\u001b[0m\u001b[0;34m(\u001b[0m\u001b[0;34m)\u001b[0m\u001b[0;34m.\u001b[0m\u001b[0mtransform\u001b[0m\u001b[0;34m(\u001b[0m\u001b[0mlink_3\u001b[0m\u001b[0;34m.\u001b[0m\u001b[0mget_path\u001b[0m\u001b[0;34m(\u001b[0m\u001b[0;34m)\u001b[0m\u001b[0;34m.\u001b[0m\u001b[0mvertices\u001b[0m\u001b[0;34m[\u001b[0m\u001b[0;34m:\u001b[0m\u001b[0;34m-\u001b[0m\u001b[0;36m1\u001b[0m\u001b[0;34m]\u001b[0m\u001b[0;34m)\u001b[0m\u001b[0;34m)\u001b[0m\u001b[0;34m\u001b[0m\u001b[0;34m\u001b[0m\u001b[0m\n\u001b[1;32m    108\u001b[0m         \u001b[0mlink_4\u001b[0m \u001b[0;34m=\u001b[0m \u001b[0mPolygon\u001b[0m\u001b[0;34m(\u001b[0m\u001b[0mlink_4\u001b[0m\u001b[0;34m.\u001b[0m\u001b[0mget_patch_transform\u001b[0m\u001b[0;34m(\u001b[0m\u001b[0;34m)\u001b[0m\u001b[0;34m.\u001b[0m\u001b[0mtransform\u001b[0m\u001b[0;34m(\u001b[0m\u001b[0mlink_4\u001b[0m\u001b[0;34m.\u001b[0m\u001b[0mget_path\u001b[0m\u001b[0;34m(\u001b[0m\u001b[0;34m)\u001b[0m\u001b[0;34m.\u001b[0m\u001b[0mvertices\u001b[0m\u001b[0;34m[\u001b[0m\u001b[0;34m:\u001b[0m\u001b[0;34m-\u001b[0m\u001b[0;36m1\u001b[0m\u001b[0;34m]\u001b[0m\u001b[0;34m)\u001b[0m\u001b[0;34m)\u001b[0m\u001b[0;34m\u001b[0m\u001b[0;34m\u001b[0m\u001b[0m\n",
            "\u001b[0;32m/usr/local/lib/python3.6/dist-packages/matplotlib/transforms.py\u001b[0m in \u001b[0;36mtransform\u001b[0;34m(self, values)\u001b[0m\n\u001b[1;32m   1403\u001b[0m \u001b[0;34m\u001b[0m\u001b[0m\n\u001b[1;32m   1404\u001b[0m         \u001b[0;31m# Transform the values\u001b[0m\u001b[0;34m\u001b[0m\u001b[0;34m\u001b[0m\u001b[0;34m\u001b[0m\u001b[0m\n\u001b[0;32m-> 1405\u001b[0;31m         \u001b[0mres\u001b[0m \u001b[0;34m=\u001b[0m \u001b[0mself\u001b[0m\u001b[0;34m.\u001b[0m\u001b[0mtransform_affine\u001b[0m\u001b[0;34m(\u001b[0m\u001b[0mself\u001b[0m\u001b[0;34m.\u001b[0m\u001b[0mtransform_non_affine\u001b[0m\u001b[0;34m(\u001b[0m\u001b[0mvalues\u001b[0m\u001b[0;34m)\u001b[0m\u001b[0;34m)\u001b[0m\u001b[0;34m\u001b[0m\u001b[0;34m\u001b[0m\u001b[0m\n\u001b[0m\u001b[1;32m   1406\u001b[0m \u001b[0;34m\u001b[0m\u001b[0m\n\u001b[1;32m   1407\u001b[0m         \u001b[0;31m# Convert the result back to the shape of the input values.\u001b[0m\u001b[0;34m\u001b[0m\u001b[0;34m\u001b[0m\u001b[0;34m\u001b[0m\u001b[0m\n",
            "\u001b[0;32m/usr/local/lib/python3.6/dist-packages/matplotlib/transforms.py\u001b[0m in \u001b[0;36mtransform_affine\u001b[0;34m(self, points)\u001b[0m\n\u001b[1;32m   2363\u001b[0m     \u001b[0;32mdef\u001b[0m \u001b[0mtransform_affine\u001b[0m\u001b[0;34m(\u001b[0m\u001b[0mself\u001b[0m\u001b[0;34m,\u001b[0m \u001b[0mpoints\u001b[0m\u001b[0;34m)\u001b[0m\u001b[0;34m:\u001b[0m\u001b[0;34m\u001b[0m\u001b[0;34m\u001b[0m\u001b[0m\n\u001b[1;32m   2364\u001b[0m         \u001b[0;31m# docstring inherited\u001b[0m\u001b[0;34m\u001b[0m\u001b[0;34m\u001b[0m\u001b[0;34m\u001b[0m\u001b[0m\n\u001b[0;32m-> 2365\u001b[0;31m         \u001b[0;32mreturn\u001b[0m \u001b[0mself\u001b[0m\u001b[0;34m.\u001b[0m\u001b[0mget_affine\u001b[0m\u001b[0;34m(\u001b[0m\u001b[0;34m)\u001b[0m\u001b[0;34m.\u001b[0m\u001b[0mtransform\u001b[0m\u001b[0;34m(\u001b[0m\u001b[0mpoints\u001b[0m\u001b[0;34m)\u001b[0m\u001b[0;34m\u001b[0m\u001b[0;34m\u001b[0m\u001b[0m\n\u001b[0m\u001b[1;32m   2366\u001b[0m \u001b[0;34m\u001b[0m\u001b[0m\n\u001b[1;32m   2367\u001b[0m     \u001b[0;32mdef\u001b[0m \u001b[0mtransform_non_affine\u001b[0m\u001b[0;34m(\u001b[0m\u001b[0mself\u001b[0m\u001b[0;34m,\u001b[0m \u001b[0mpoints\u001b[0m\u001b[0;34m)\u001b[0m\u001b[0;34m:\u001b[0m\u001b[0;34m\u001b[0m\u001b[0;34m\u001b[0m\u001b[0m\n",
            "\u001b[0;32m/usr/local/lib/python3.6/dist-packages/matplotlib/transforms.py\u001b[0m in \u001b[0;36mget_affine\u001b[0;34m(self)\u001b[0m\n\u001b[1;32m   2391\u001b[0m         \u001b[0;32melse\u001b[0m\u001b[0;34m:\u001b[0m\u001b[0;34m\u001b[0m\u001b[0;34m\u001b[0m\u001b[0m\n\u001b[1;32m   2392\u001b[0m             return Affine2D(np.dot(self._b.get_affine().get_matrix(),\n\u001b[0;32m-> 2393\u001b[0;31m                                 self._a.get_affine().get_matrix()))\n\u001b[0m\u001b[1;32m   2394\u001b[0m \u001b[0;34m\u001b[0m\u001b[0m\n\u001b[1;32m   2395\u001b[0m     \u001b[0;32mdef\u001b[0m \u001b[0minverted\u001b[0m\u001b[0;34m(\u001b[0m\u001b[0mself\u001b[0m\u001b[0;34m)\u001b[0m\u001b[0;34m:\u001b[0m\u001b[0;34m\u001b[0m\u001b[0;34m\u001b[0m\u001b[0m\n",
            "\u001b[0;32m/usr/local/lib/python3.6/dist-packages/matplotlib/transforms.py\u001b[0m in \u001b[0;36mget_matrix\u001b[0;34m(self)\u001b[0m\n\u001b[1;32m   2565\u001b[0m         \u001b[0;31m# docstring inherited\u001b[0m\u001b[0;34m\u001b[0m\u001b[0;34m\u001b[0m\u001b[0;34m\u001b[0m\u001b[0m\n\u001b[1;32m   2566\u001b[0m         \u001b[0;32mif\u001b[0m \u001b[0mself\u001b[0m\u001b[0;34m.\u001b[0m\u001b[0m_invalid\u001b[0m\u001b[0;34m:\u001b[0m\u001b[0;34m\u001b[0m\u001b[0;34m\u001b[0m\u001b[0m\n\u001b[0;32m-> 2567\u001b[0;31m             \u001b[0moutl\u001b[0m\u001b[0;34m,\u001b[0m \u001b[0moutb\u001b[0m\u001b[0;34m,\u001b[0m \u001b[0moutw\u001b[0m\u001b[0;34m,\u001b[0m \u001b[0mouth\u001b[0m \u001b[0;34m=\u001b[0m \u001b[0mself\u001b[0m\u001b[0;34m.\u001b[0m\u001b[0m_boxout\u001b[0m\u001b[0;34m.\u001b[0m\u001b[0mbounds\u001b[0m\u001b[0;34m\u001b[0m\u001b[0;34m\u001b[0m\u001b[0m\n\u001b[0m\u001b[1;32m   2568\u001b[0m             \u001b[0;32mif\u001b[0m \u001b[0mDEBUG\u001b[0m \u001b[0;32mand\u001b[0m \u001b[0;34m(\u001b[0m\u001b[0moutw\u001b[0m \u001b[0;34m==\u001b[0m \u001b[0;36m0\u001b[0m \u001b[0;32mor\u001b[0m \u001b[0mouth\u001b[0m \u001b[0;34m==\u001b[0m \u001b[0;36m0\u001b[0m\u001b[0;34m)\u001b[0m\u001b[0;34m:\u001b[0m\u001b[0;34m\u001b[0m\u001b[0;34m\u001b[0m\u001b[0m\n\u001b[1;32m   2569\u001b[0m                 \u001b[0;32mraise\u001b[0m \u001b[0mValueError\u001b[0m\u001b[0;34m(\u001b[0m\u001b[0;34m\"Transforming to a singular bounding box.\"\u001b[0m\u001b[0;34m)\u001b[0m\u001b[0;34m\u001b[0m\u001b[0;34m\u001b[0m\u001b[0m\n",
            "\u001b[0;32m/usr/local/lib/python3.6/dist-packages/matplotlib/transforms.py\u001b[0m in \u001b[0;36mbounds\u001b[0;34m(self)\u001b[0m\n\u001b[1;32m    413\u001b[0m     \u001b[0;32mdef\u001b[0m \u001b[0mbounds\u001b[0m\u001b[0;34m(\u001b[0m\u001b[0mself\u001b[0m\u001b[0;34m)\u001b[0m\u001b[0;34m:\u001b[0m\u001b[0;34m\u001b[0m\u001b[0;34m\u001b[0m\u001b[0m\n\u001b[1;32m    414\u001b[0m         \u001b[0;34m\"\"\"Return (:attr:`x0`, :attr:`y0`, :attr:`width`, :attr:`height`).\"\"\"\u001b[0m\u001b[0;34m\u001b[0m\u001b[0;34m\u001b[0m\u001b[0m\n\u001b[0;32m--> 415\u001b[0;31m         \u001b[0;34m(\u001b[0m\u001b[0mx0\u001b[0m\u001b[0;34m,\u001b[0m \u001b[0my0\u001b[0m\u001b[0;34m)\u001b[0m\u001b[0;34m,\u001b[0m \u001b[0;34m(\u001b[0m\u001b[0mx1\u001b[0m\u001b[0;34m,\u001b[0m \u001b[0my1\u001b[0m\u001b[0;34m)\u001b[0m \u001b[0;34m=\u001b[0m \u001b[0mself\u001b[0m\u001b[0;34m.\u001b[0m\u001b[0mget_points\u001b[0m\u001b[0;34m(\u001b[0m\u001b[0;34m)\u001b[0m\u001b[0;34m\u001b[0m\u001b[0;34m\u001b[0m\u001b[0m\n\u001b[0m\u001b[1;32m    416\u001b[0m         \u001b[0;32mreturn\u001b[0m \u001b[0;34m(\u001b[0m\u001b[0mx0\u001b[0m\u001b[0;34m,\u001b[0m \u001b[0my0\u001b[0m\u001b[0;34m,\u001b[0m \u001b[0mx1\u001b[0m \u001b[0;34m-\u001b[0m \u001b[0mx0\u001b[0m\u001b[0;34m,\u001b[0m \u001b[0my1\u001b[0m \u001b[0;34m-\u001b[0m \u001b[0my0\u001b[0m\u001b[0;34m)\u001b[0m\u001b[0;34m\u001b[0m\u001b[0;34m\u001b[0m\u001b[0m\n\u001b[1;32m    417\u001b[0m \u001b[0;34m\u001b[0m\u001b[0m\n",
            "\u001b[0;31mKeyboardInterrupt\u001b[0m: "
          ]
        }
      ]
    },
    {
      "cell_type": "markdown",
      "metadata": {
        "id": "IeQF2jdz7HMn",
        "colab_type": "text"
      },
      "source": [
        "# **Tree Visualization**"
      ]
    },
    {
      "cell_type": "code",
      "metadata": {
        "id": "rnfwALSi7L43",
        "colab_type": "code",
        "outputId": "51a8f327-2958-47d0-a1f9-af810ca1f2fd",
        "colab": {
          "base_uri": "https://localhost:8080/",
          "height": 265
        }
      },
      "source": [
        "visualize_tree(env, graph, graph_dictionary)"
      ],
      "execution_count": 0,
      "outputs": [
        {
          "output_type": "display_data",
          "data": {
            "image/png": "[encoded data removed]",
            "text/plain": [
              "<Figure size 432x288 with 1 Axes>"
            ]
          },
          "metadata": {
            "tags": [],
            "needs_background": "light"
          }
        }
      ]
    },
    {
      "cell_type": "code",
      "metadata": {
        "id": "paCB6v0Y7MsR",
        "colab_type": "code",
        "outputId": "ddd8c679-c081-4783-e056-77a3adebf4e1",
        "colab": {
          "base_uri": "https://localhost:8080/",
          "height": 237
        }
      },
      "source": [
        "end_effector_path_x = []\n",
        "end_effector_path_y = []\n",
        "for node in path:\n",
        "    end_effector_path_x.append(node[2].x())\n",
        "    end_effector_path_y.append(node[2].y())\n",
        "fig = plt.figure()\n",
        "fig.set_dpi(100)\n",
        "ax = plt.axes(xlim=(-5, max_x), ylim=(-5, max_y))\n",
        "plt.rc('animation', html='jshtml') # needed for animations!\n",
        "#ax = plt.axes()\n",
        "plt.close()\n",
        "N = len(path)\n",
        "# size=10.5\n",
        "len_b = 2\n",
        "d = np.sqrt(2*len_b*len_b/4)\n",
        "omega = 2*math.pi/N\n",
        "# arm = FourLinkMM()\n",
        "# arm.x_b = 0\n",
        "# arm.y_b = 0\n",
        "# arm.theta_b = 0\n",
        "q = np.radians(vector4(90,30,45,0))\n",
        "sTt_initial = arm.fwd_kinematics(q)\n",
        "print(sTt_initial)\n",
        "print(q)\n",
        "# ax.legend()"
      ],
      "execution_count": 0,
      "outputs": [
        {
          "output_type": "error",
          "ename": "TypeError",
          "evalue": "ignored",
          "traceback": [
            "\u001b[0;31m---------------------------------------------------------------------------\u001b[0m",
            "\u001b[0;31mTypeError\u001b[0m                                 Traceback (most recent call last)",
            "\u001b[0;32m<ipython-input-225-6441518ed5f9>\u001b[0m in \u001b[0;36m<module>\u001b[0;34m()\u001b[0m\n\u001b[1;32m      2\u001b[0m \u001b[0mend_effector_path_y\u001b[0m \u001b[0;34m=\u001b[0m \u001b[0;34m[\u001b[0m\u001b[0;34m]\u001b[0m\u001b[0;34m\u001b[0m\u001b[0;34m\u001b[0m\u001b[0m\n\u001b[1;32m      3\u001b[0m \u001b[0;32mfor\u001b[0m \u001b[0mnode\u001b[0m \u001b[0;32min\u001b[0m \u001b[0mpath\u001b[0m\u001b[0;34m:\u001b[0m\u001b[0;34m\u001b[0m\u001b[0;34m\u001b[0m\u001b[0m\n\u001b[0;32m----> 4\u001b[0;31m     \u001b[0mend_effector_path_x\u001b[0m\u001b[0;34m.\u001b[0m\u001b[0mappend\u001b[0m\u001b[0;34m(\u001b[0m\u001b[0mnode\u001b[0m\u001b[0;34m[\u001b[0m\u001b[0;36m2\u001b[0m\u001b[0;34m]\u001b[0m\u001b[0;34m.\u001b[0m\u001b[0mx\u001b[0m\u001b[0;34m(\u001b[0m\u001b[0;34m)\u001b[0m\u001b[0;34m)\u001b[0m\u001b[0;34m\u001b[0m\u001b[0;34m\u001b[0m\u001b[0m\n\u001b[0m\u001b[1;32m      5\u001b[0m     \u001b[0mend_effector_path_y\u001b[0m\u001b[0;34m.\u001b[0m\u001b[0mappend\u001b[0m\u001b[0;34m(\u001b[0m\u001b[0mnode\u001b[0m\u001b[0;34m[\u001b[0m\u001b[0;36m2\u001b[0m\u001b[0;34m]\u001b[0m\u001b[0;34m.\u001b[0m\u001b[0my\u001b[0m\u001b[0;34m(\u001b[0m\u001b[0;34m)\u001b[0m\u001b[0;34m)\u001b[0m\u001b[0;34m\u001b[0m\u001b[0;34m\u001b[0m\u001b[0m\n\u001b[1;32m      6\u001b[0m \u001b[0mfig\u001b[0m \u001b[0;34m=\u001b[0m \u001b[0mplt\u001b[0m\u001b[0;34m.\u001b[0m\u001b[0mfigure\u001b[0m\u001b[0;34m(\u001b[0m\u001b[0;34m)\u001b[0m\u001b[0;34m\u001b[0m\u001b[0;34m\u001b[0m\u001b[0m\n",
            "\u001b[0;31mTypeError\u001b[0m: 'gtsam.gtsam.Pose2' object is not subscriptable"
          ]
        }
      ]
    },
    {
      "cell_type": "code",
      "metadata": {
        "id": "9tClXVfB7UHZ",
        "colab_type": "code",
        "colab": {}
      },
      "source": [
        "def init():\n",
        "\n",
        "  # For animation\n",
        "    rect = mpatches.Rectangle([arm.x_b-d*np.cos(arm.theta_b+np.radians(45)),arm.y_b-d*np.sin(arm.theta_b+np.radians(45))], len_b, len_b, angle = arm.theta_b*180/np.pi)\n",
        "    ax.plot(QGoal.x(), QGoal.y(), marker=\"o\", markersize=8)\n",
        "    #     ax.add_patch(rect)\n",
        "#     ax.add_patch(link_1)\n",
        "#     ax.add_patch(link_2)\n",
        "#     ax.add_patch(link_3)\n",
        "#     ax.add_patch(link_4)\n",
        "#     ax.add_patch(mpatches.FancyArrow(arm.x_b,arm.y_b, 1.5*np.cos(arm.theta_b), 1.5*np.sin(arm.theta_b), color='r',head_width = 0.3))\n",
        "\n",
        "    return rect,\n",
        "\n",
        "\n",
        "def animate(i):\n",
        "\n",
        "    global path\n",
        "    global end_effector_path_x\n",
        "    global end_effector_path_y\n",
        "    global arm\n",
        "    global q\n",
        "    global prev_pose\n",
        "    global curr_pose\n",
        "    global env\n",
        "    # Computes the forward kinematics to get the pose of the end-effector for the given angular position of the joints (q)\n",
        "    base, q, end_effector = path[i]\n",
        "    #     base, q = arm.ik2(poses[i])\n",
        "    arm.update_manipulator_model(base, q)\n",
        "    sTt = arm.fwd_kinematics(q)\n",
        "\n",
        "    # Get the jacobian of the arm at the given pose\n",
        "    # ------------------------- ANIMATION ----------------------------------------------------\n",
        "    rect = mpatches.Rectangle([arm.x_b-d*np.cos(arm.theta_b+np.radians(45)),arm.y_b-d*np.sin(arm.theta_b+np.radians(45))],\n",
        "                    len_b, len_b, angle = arm.theta_b*180/np.pi, color = 'b')\n",
        "    #ax.clear()\n",
        "    ax.clear()\n",
        "    for obstacle in env.obstacles:\n",
        "        ax.plot(*obstacle.exterior.xy)\n",
        "    ax.plot(end_effector_path_x, end_effector_path_y, \"ro-\", markersize=2)\n",
        "#     if prev_pose is None:\n",
        "#         obj = ax.plot(curr_pose.x(), curr_pose.y(), marker=\"o\", markersize=3)\n",
        "#     #         ax.add_artist(obj)\n",
        "#         prev_pose = curr_pose\n",
        "#         curr_pose = poses[i + 1]\n",
        "#     else:\n",
        "#         obj = ax.plot([prev_pose.x(), curr_pose.x()], [prev_pose.y(), curr_pose.y()], \"ro-\", markersize=3)\n",
        "#     #         ax.add_artist(obj)\n",
        "#         prev_pose = curr_pose\n",
        "#     if i + 1 < len(poses):\n",
        "#         curr_pose = poses[i + 1]\n",
        "    ax.add_patch(rect)\n",
        "    \n",
        "    #link 1\n",
        "    sXl1 = Pose2(0, 0, arm.theta_b)\n",
        "    l1Zl1 = Pose2(0, 0, q[0])\n",
        "    l1Xl2 = Pose2(arm.L1, 0, 0)\n",
        "    sTl2 = compose(sXl1, l1Zl1, l1Xl2)\n",
        "    t1 = sTl2.translation()\n",
        "\n",
        "    #link 2\n",
        "    l2Zl2 = Pose2(0, 0, q[1])\n",
        "    l2Xl3 = Pose2(arm.L2, 0, 0)\n",
        "    sTl3 = compose(sTl2, l2Zl2, l2Xl3)\n",
        "    t2 = sTl3.translation()\n",
        "\n",
        "    #link 3\n",
        "    l3Zl3 = Pose2(0, 0, q[2])\n",
        "    l3X4 = Pose2(arm.L3, 0, 0)\n",
        "    sTl4 = compose(sTl3, l3Zl3, l3X4)\n",
        "    t3 = sTl4.translation()\n",
        "\n",
        "    #link 4\n",
        "    l4Zl4 = Pose2(0, 0, q[3])\n",
        "    l4Xt = Pose2(arm.L4, 0, 0)\n",
        "    sTt = compose(sTl4, l4Zl4, l4Xt)\n",
        "    t4 = sTt.translation()\n",
        "    \n",
        "    #link 1\n",
        "#     sXl1 = Pose2(0, 0, arm.theta_b)\n",
        "#     l1Zl1 = Pose2(0, 0, q[0])\n",
        "#     l1Xl2 = Pose2(arm.L1, 0, 0)\n",
        "#     sTl2 = compose(sXl1, l1Zl1, l1Xl2)\n",
        "#     t1 = sTl2.translation()\n",
        "    ax.add_artist(mpatches.Rectangle([arm.x_b,arm.y_b], 3.5, 0.1, angle =np.rad2deg(arm.theta_b+q[0]), color='r'))\n",
        "    \n",
        "    #link2\n",
        "#     l2Xl3 = Pose2(arm.L2, 0, 0)\n",
        "#     sTl3 = compose(sTl2, l2Zl2, l2Xl3)\n",
        "#     t2 = sTl3.translation()\n",
        "    ax.add_artist(mpatches.Rectangle([t1.x()+arm.x_b,t1.y()+arm.y_b], 3.5, 0.1, angle =np.rad2deg(arm.theta_b+q[0]+q[1]), color='g'))\n",
        "\n",
        "    #link3\n",
        "#     l3Zl3 = Pose2(0, 0, q[2])\n",
        "#     l3X4 = Pose2(arm.L3, 0, 0)\n",
        "#     sTl4 = compose(sTl3, l3Zl3, l3X4)\n",
        "#     t3 = sTl4.translation()\n",
        "    ax.add_artist(mpatches.Rectangle([t2.x()+arm.x_b,t2.y()+arm.y_b], 2.5, 0.1, angle = np.rad2deg(arm.theta_b+q[0]+q[1]+q[2]), color='b'))\n",
        "\n",
        "    #link4\n",
        "#     l4Zl4 = Pose2(0, 0, q[3])\n",
        "#     l4Xt = Pose2(arm.L4, 0, 0)\n",
        "#     sTt = compose(sTl4, l4Zl4, l4Xt)\n",
        "#     t4 = sTt.translation()\n",
        "    ax.add_artist(mpatches.Rectangle([t3.x()+arm.x_b,t3.y()+arm.y_b], 0.5, 0.1, angle =np.rad2deg(arm.theta_b+q[0]+q[1]+q[2]+q[3]), color='k'))\n",
        "\n",
        "\n",
        "    return rect,"
      ],
      "execution_count": 0,
      "outputs": []
    },
    {
      "cell_type": "markdown",
      "metadata": {
        "id": "cropz30G7Wh_",
        "colab_type": "text"
      },
      "source": [
        "# **Animation**"
      ]
    },
    {
      "cell_type": "code",
      "metadata": {
        "id": "Q2hn3wSf7Yzd",
        "colab_type": "code",
        "colab": {}
      },
      "source": [
        "animation.FuncAnimation(fig, animate, init_func=init,\n",
        "                        frames=N, interval=500, blit=False)"
      ],
      "execution_count": 0,
      "outputs": []
    },
    {
      "cell_type": "code",
      "metadata": {
        "id": "YbNcuW2X7a_C",
        "colab_type": "code",
        "colab": {}
      },
      "source": [
        "ani = animation.FuncAnimation(fig, animate, init_func=init,\n",
        "                        frames=N, interval=500, blit=False)\n",
        "\n",
        "# plt.show()\n"
      ],
      "execution_count": 0,
      "outputs": []
    },
    {
      "cell_type": "code",
      "metadata": {
        "id": "KA7ditdG7bzp",
        "colab_type": "code",
        "colab": {}
      },
      "source": [
        "ani.save('rrt_animation_env3_1.gif', writer='imagemagick', fps=2)"
      ],
      "execution_count": 0,
      "outputs": []
    }
  ]
}